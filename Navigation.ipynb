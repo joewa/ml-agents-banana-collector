{
 "cells": [
  {
   "cell_type": "markdown",
   "metadata": {},
   "source": [
    "# Navigation\n",
    "\n",
    "---\n",
    "\n",
    "In this notebook, you will learn how to use the Unity ML-Agents environment for the first project of the [Deep Reinforcement Learning Nanodegree](https://www.udacity.com/course/deep-reinforcement-learning-nanodegree--nd893).\n",
    "\n",
    "### 1. Start the Environment\n",
    "\n",
    "We begin by importing some necessary packages.  If the code cell below returns an error, please revisit the project instructions to double-check that you have installed [Unity ML-Agents](https://github.com/Unity-Technologies/ml-agents/blob/master/docs/Installation.md) and [NumPy](http://www.numpy.org/)."
   ]
  },
  {
   "cell_type": "code",
   "execution_count": null,
   "metadata": {},
   "outputs": [],
   "source": [
    "# from unityagents import UnityEnvironment\n",
    "import os\n",
    "from mlagents_envs.environment import ActionTuple, BaseEnv\n",
    "from mlagents_envs.registry import default_registry\n",
    "from mlagents_envs.environment import UnityEnvironment\n",
    "from mlagents_envs.side_channel.engine_configuration_channel import EngineConfigurationChannel\n",
    "from mlagents_envs.side_channel.environment_parameters_channel import EnvironmentParametersChannel\n",
    "import numpy as np\n",
    "import matplotlib.pyplot as plt\n",
    "from mpl_toolkits.axes_grid1 import ImageGrid, Grid\n",
    "from matplotlib.animation import FuncAnimation\n",
    "import matplotlib.animation as animation\n",
    "import cv2\n",
    "from IPython.display import display, HTML\n",
    "trained = False  # Didn't train yet."
   ]
  },
  {
   "cell_type": "markdown",
   "metadata": {},
   "source": [
    "Next, we will start the environment!  **_Before running the code cell below_**, change the `file_name` parameter to match the location of the Unity environment that you downloaded.\n",
    "\n",
    "- **Mac**: `\"path/to/Banana.app\"`\n",
    "- **Windows** (x86): `\"path/to/Banana_Windows_x86/Banana.exe\"`\n",
    "- **Windows** (x86_64): `\"path/to/Banana_Windows_x86_64/Banana.exe\"`\n",
    "- **Linux** (x86): `\"path/to/Banana_Linux/Banana.x86\"`\n",
    "- **Linux** (x86_64): `\"path/to/Banana_Linux/Banana.x86_64\"`\n",
    "- **Linux** (x86, headless): `\"path/to/Banana_Linux_NoVis/Banana.x86\"`\n",
    "- **Linux** (x86_64, headless): `\"path/to/Banana_Linux_NoVis/Banana.x86_64\"`\n",
    "\n",
    "For instance, if you are using a Mac, then you downloaded `Banana.app`.  If this file is in the same folder as the notebook, then the line below should appear as follows:\n",
    "```\n",
    "env = UnityEnvironment(file_name=\"Banana.app\")\n",
    "```"
   ]
  },
  {
   "cell_type": "code",
   "execution_count": null,
   "metadata": {},
   "outputs": [],
   "source": [
    "# Run this cell first and then press the \"play\" button in the Unity evironment.\n",
    "unity_env = UnityEnvironment(seed=42)"
   ]
  },
  {
   "cell_type": "code",
   "execution_count": null,
   "metadata": {},
   "outputs": [],
   "source": [
    "time_scale = 5 # 20\n",
    "capture_frame_rate = 60\n",
    "target_frame_rate = 300\n",
    "eng_channel = EngineConfigurationChannel()\n",
    "params_channel = EnvironmentParametersChannel()"
   ]
  },
  {
   "cell_type": "code",
   "execution_count": null,
   "metadata": {},
   "outputs": [],
   "source": [
    "unity_env = UnityEnvironment(side_channels=[eng_channel, params_channel], seed=42)"
   ]
  },
  {
   "cell_type": "code",
   "execution_count": null,
   "metadata": {},
   "outputs": [],
   "source": [
    "import os.path\n",
    "#os.path.isfile('/mnt/c/Users/chibi/projekte/unity/Build/FoodCollector/foodCollector.exe') \n",
    "# exefile = '/home/joerg/repos/deep-reinforcement-learning/p1_navigation/FoodCollectorLinuxHeadless/foodCollectorHeadless.x86_64'\n",
    "exefile = '/home/joerg/repos/deep-reinforcement-learning/p1_navigation/RayFoodCollectorLinuxHeadless/foodCollector.x86_64'\n",
    "os.path.isfile(exefile)"
   ]
  },
  {
   "cell_type": "code",
   "execution_count": null,
   "metadata": {},
   "outputs": [],
   "source": [
    "# env = UnityEnvironment(file_name=\"...\")\n",
    "unity_env = UnityEnvironment(\n",
    "    file_name=exefile,\n",
    "    side_channels=[eng_channel, params_channel], seed=42)"
   ]
  },
  {
   "cell_type": "code",
   "execution_count": null,
   "metadata": {},
   "outputs": [],
   "source": [
    "engine_config = {\n",
    "                 \"time_scale\": time_scale,\n",
    "                 #\"capture_frame_rate\": capture_frame_rate,\n",
    "                 #\"target_frame_rate\": target_frame_rate\n",
    "                 }\n",
    "eng_channel.set_configuration_parameters(**engine_config)"
   ]
  },
  {
   "cell_type": "markdown",
   "metadata": {},
   "source": [
    "Environments contain **_brains_** which are responsible for deciding the actions of their associated agents. Here we check for the first brain available, and set it as the default brain we will be controlling from Python."
   ]
  },
  {
   "cell_type": "code",
   "execution_count": null,
   "metadata": {},
   "outputs": [],
   "source": [
    "behavior_names = unity_env.behavior_specs.keys()\n",
    "#set(behavior_names)\n",
    "behavior_names"
   ]
  },
  {
   "cell_type": "code",
   "execution_count": null,
   "metadata": {},
   "outputs": [],
   "source": [
    "from mlagents_envs import logging_util\n",
    "# logging_util.WARNING\n",
    "\n",
    "logging_util.set_log_level(logging_util.ERROR)"
   ]
  },
  {
   "cell_type": "code",
   "execution_count": null,
   "metadata": {},
   "outputs": [],
   "source": [
    "# from mlagents_envs.envs.unity_gym_env import UnityToGymWrapper\n",
    "\n",
    "# #gym_env = UnityToGymWrapper(env, uint8_visual, flatten_branched, allow_multiple_obs)\n",
    "# env = UnityToGymWrapper(unity_env, uint8_visual=True, flatten_branched=False)"
   ]
  },
  {
   "cell_type": "code",
   "execution_count": null,
   "metadata": {},
   "outputs": [],
   "source": [
    "from mlagents_envs.envs.unity_gym_env import UnityToGymWrapper\n",
    "\n",
    "#gym_env = UnityToGymWrapper(env, uint8_visual, flatten_branched, allow_multiple_obs)\n",
    "env = UnityToGymWrapper(unity_env, uint8_visual=False, flatten_branched=False, allow_multiple_obs=True)"
   ]
  },
  {
   "cell_type": "markdown",
   "metadata": {},
   "source": [
    "### 2. Examine the State and Action Spaces\n",
    "\n",
    "The simulation contains a single agent that navigates a large environment.  At each time step, it has <strike>four</strike> six actions at its disposal, corresponding to the 3 degrees of freedom:\n",
    "- `0` - walk right \n",
    "- `1` - walk left\n",
    "- `2` - turn left\n",
    "- `3` - turn right\n",
    "- `4` - walk forward\n",
    "- `5` - walk backward\n",
    "\n",
    "<strike>The state space has `37` dimensions and contains the agent's velocity, along with ray-based perception of objects around agent's forward direction.</strike>  A reward of `+1` is provided for collecting a <strike>yellow banana</strike> green marble, and a reward of `-1` is provided for collecting a <strike>blue banana</strike> red marble.\n",
    "\n",
    "Three sensors are used to train or to monitor the agent's behavior. Only sensor `2` or `0` are used for training and inference.\n",
    "- `0` - [Camera Sensor](https://www.youtube.com/watch?v=7FHyqzUBzZ0), mounted at the agent (64x64 RGB).\n",
    "- `1` - Grid Sensor for basic monitoring (3x40x40) with the layers 1: good food, 2: walls, 3: bad food.\n",
    "- `2` - [Ray Perception Sensor 3D](https://www.immersivelimit.com/tutorials/rayperceptionsensorcomponent-tutorial) with 6 Rays Per Direction and 3 Stacked Raycasts.\n",
    "\n",
    "Run the code cell below to print some information about the environment."
   ]
  },
  {
   "cell_type": "code",
   "execution_count": null,
   "metadata": {},
   "outputs": [],
   "source": [
    "# Run this cell for using the Ray Perception Sensor 3D\n",
    "unity_sensor_id = 2"
   ]
  },
  {
   "cell_type": "code",
   "execution_count": null,
   "metadata": {},
   "outputs": [],
   "source": [
    "# Run this cell for using the Camera Sensor\n",
    "unity_sensor_id = 0"
   ]
  },
  {
   "cell_type": "code",
   "execution_count": null,
   "metadata": {},
   "outputs": [],
   "source": [
    "describe_actions_d = {\n",
    "    0: '    walk right -->',\n",
    "    1: '<-- walk left     ',\n",
    "    2: '<-- turn left     ',\n",
    "    3: '    turn right -->',\n",
    "    4: '    walk forward  ',\n",
    "    5: '    walk backward ',\n",
    "}"
   ]
  },
  {
   "cell_type": "code",
   "execution_count": null,
   "metadata": {},
   "outputs": [],
   "source": [
    "# # reset the environment\n",
    "# env_info = env.reset(train_mode=True)[brain_name]\n",
    "\n",
    "# # number of agents in the environment\n",
    "# print('Number of agents:', len(env_info.agents))\n",
    "\n",
    "# # number of actions\n",
    "# action_size = brain.vector_action_space_size\n",
    "# print('Number of actions:', action_size)\n",
    "\n",
    "# # examine the state space \n",
    "# state = env_info.vector_observations[0]\n",
    "# print('States look like:', state)\n",
    "# state_size = len(state)\n",
    "# print('States have length:', state_size)"
   ]
  },
  {
   "cell_type": "code",
   "execution_count": null,
   "metadata": {},
   "outputs": [],
   "source": [
    "env_info = env.reset()\n",
    "\n",
    "action_size = env.action_size\n",
    "print('Number of actions:', action_size)\n",
    "print('Observation space: ', env.observation_space)"
   ]
  },
  {
   "cell_type": "code",
   "execution_count": null,
   "metadata": {},
   "outputs": [],
   "source": [
    "len(env.visual_obs)"
   ]
  },
  {
   "cell_type": "markdown",
   "metadata": {},
   "source": [
    "### 3. Take Random Actions in the Environment\n",
    "\n",
    "In the next code cell, you will learn how to use the Python API to control the agent and receive feedback from the environment.\n",
    "\n",
    "Once this cell is executed, you will watch the agent's performance, if it selects an action (uniformly) at random with each time step.  A window should pop up that allows you to observe the agent, as it moves through the environment.  \n",
    "\n",
    "Of course, as part of the project, you'll have to change the code so that the agent is able to use its experience to gradually choose better actions when interacting with the environment!\n",
    "\n",
    "It is always certainly a good idea to observe behavior and learning progress of the agent. This is achieved by plotting the agent's First Person View (FPV) from the Camera Sensor and the Grid Sensor that provides a bird's eye view of the surrounding area."
   ]
  },
  {
   "cell_type": "code",
   "execution_count": null,
   "metadata": {},
   "outputs": [],
   "source": [
    "def rand_agent_gen(n=100):\n",
    "    env_info = env.reset()\n",
    "    score = 0\n",
    "    for i in range(n):\n",
    "        action_vec = np.random.rand(action_size)*2 - 1         # select a random action\n",
    "        action = 2\n",
    "        # action_vec = action_d[action] * 0.5\n",
    "        next_obs, rewards, done, info = env.step(action_vec)   # send the action to the environment\n",
    "        score += rewards\n",
    "        yield next_obs, rewards, score, action"
   ]
  },
  {
   "cell_type": "code",
   "execution_count": null,
   "metadata": {},
   "outputs": [],
   "source": [
    "%%time\n",
    "%%capture\n",
    "\n",
    "# The \"Random Agent\" runs for n steps\n",
    "results = list(rand_agent_gen(n=20))"
   ]
  },
  {
   "cell_type": "code",
   "execution_count": null,
   "metadata": {},
   "outputs": [],
   "source": [
    "results[0][0][0].shape"
   ]
  },
  {
   "cell_type": "code",
   "execution_count": null,
   "metadata": {},
   "outputs": [],
   "source": [
    "results[0][0][1].shape"
   ]
  },
  {
   "cell_type": "code",
   "execution_count": null,
   "metadata": {},
   "outputs": [],
   "source": [
    "results[0][0][2].shape"
   ]
  },
  {
   "cell_type": "code",
   "execution_count": null,
   "metadata": {},
   "outputs": [],
   "source": [
    "frame_data = results[-1]\n",
    "next_obs, rewards, score, action = frame_data"
   ]
  },
  {
   "cell_type": "code",
   "execution_count": null,
   "metadata": {
    "scrolled": true
   },
   "outputs": [],
   "source": [
    "print(\"Score: {}\".format(results[-1][2]))"
   ]
  },
  {
   "cell_type": "code",
   "execution_count": null,
   "metadata": {},
   "outputs": [],
   "source": [
    "def visualize_output_func(fig, w=None, normalize=True, count=True, nrows_ncols=(4, 4)):\n",
    "    #ax_grid = fig.add_subplot(1, 2, 1)\n",
    "    #ax_camera = fig.add_subplot(1, 2, 2)\n",
    "    step_count = 0\n",
    "    status_text_art = None\n",
    "    action_text_art = None\n",
    "    def visualize_output(frame_data):\n",
    "        nonlocal step_count\n",
    "        nonlocal status_text_art\n",
    "        nonlocal action_text_art\n",
    "        if count:\n",
    "            step_count = step_count + 1\n",
    "        next_obs, rewards, score, action = frame_data\n",
    "        status_text = 'Step {0:04d}\\n\\nScore {1:03d}'.format(step_count, int(score))\n",
    "        action_text = describe_actions_d[action]\n",
    "        next_cam_obs = next_obs[0]\n",
    "        next_grid_obs = next_obs[1]\n",
    "        if w is not None:\n",
    "            batch_size = w.shape[0]\n",
    "            grid = ImageGrid(fig, 122, nrows_ncols=nrows_ncols, axes_pad = 0.1)\n",
    "            filtered_images_cv = apply_kernels_to_image(next_cam_obs, weigths_conv1)\n",
    "            # grid.title('conv1')\n",
    "            for i in range(batch_size):\n",
    "                image = filtered_images_cv[i]\n",
    "                #image = image.cpu().numpy()   # convert to numpy array from a Tensor\n",
    "                #image = cv2.cvtColor(image, cv2.COLOR_BGR2RGB)\n",
    "                image = np.transpose(image, (1, 2, 0))   # transpose to go from torch to numpy image\n",
    "        \n",
    "                if normalize:\n",
    "                    mean = np.array([0.485, 0.456, 0.406])\n",
    "                    std = np.array([0.229, 0.224, 0.225])\n",
    "                    image = std * image + mean\n",
    "                    image = np.clip(image, 0, 1)\n",
    "    \n",
    "                grid[i].clear()\n",
    "                grid[i].imshow(image, cmap='gray')\n",
    "                grid[i].get_xaxis().set_ticks([])\n",
    "                grid[i].get_yaxis().set_ticks([])\n",
    "                plt.axis('off')\n",
    "\n",
    "            grid = Grid(fig, 121, nrows_ncols=(2,2), axes_pad=0.1, share_x=False)\n",
    "            fpv_view_id = 1\n",
    "            grid_view_id = 3\n",
    "            # Remove axis ticks\n",
    "            grid[0].clear()\n",
    "            grid[2].clear()\n",
    "            grid[0].get_xaxis().set_ticks([])\n",
    "            grid[0].get_yaxis().set_ticks([])\n",
    "            grid[0].axis('off')\n",
    "            grid[2].get_xaxis().set_ticks([])\n",
    "            grid[2].get_yaxis().set_ticks([])\n",
    "            grid[2].axis('off')\n",
    "            grid[0].set_xlim((0,40))\n",
    "            grid[2].set_xlim((0,40))\n",
    "            if action_text_art is not None:\n",
    "                action_text_art.remove()\n",
    "            action_text_art = grid[0].text(\n",
    "                20, 20, action_text,\n",
    "                fontsize=10, fontweight='bold', rotation=0, family='monospace', horizontalalignment = 'center')\n",
    "    \n",
    "            if status_text_art is not None:\n",
    "                status_text_art.remove()\n",
    "            status_text_art = grid[2].text(\n",
    "                20, 20,\n",
    "                status_text,\n",
    "                fontsize=14, fontweight='bold', rotation=0, family='monospace', horizontalalignment = 'center')\n",
    "        else:  # Display game only\n",
    "            grid = Grid(fig, 111, nrows_ncols=(1,2), axes_pad=0.15, share_x=False, share_y=False)\n",
    "            fig.suptitle(action_text + '   Step {0:04d}  Score {1:03d}'.format(\n",
    "                step_count, int(score)), fontsize=14, fontweight='bold', family='monospace')\n",
    "            fpv_view_id = 0\n",
    "            grid_view_id = 1\n",
    "            grid.axes_all[0].set_title(action_text)\n",
    "            #grid[fpv_view_id].set_title(action_text)\n",
    "            #grid[grid_view_id].set_title(status_text)\n",
    "        # Camera sensor FPV\n",
    "        next_cam_pic = next_cam_obs.transpose((1, 2, 0))\n",
    "        #ax_camera.clear()\n",
    "        #grid[0].set_ylim((0,40))\n",
    "\n",
    "        grid[fpv_view_id].clear()\n",
    "        grid[fpv_view_id].imshow(next_cam_pic)\n",
    "        plt.axis('off')\n",
    "    \n",
    "        next_grid_pic = next_grid_obs.copy()\n",
    "        grid[grid_view_id].clear()\n",
    "        walls = next_grid_pic[1].copy()\n",
    "        next_grid_pic[1] = next_grid_pic[0]\n",
    "        next_grid_pic[0] = np.zeros((40,40))\n",
    "        next_grid_pic[0] = next_grid_pic[2]\n",
    "        next_grid_pic[2] = np.zeros((40,40))\n",
    "        next_grid_pic[2] = walls\n",
    "        next_grid_pic = next_grid_pic.transpose((1,2,0))\n",
    "        next_grid_pic = np.flipud(next_grid_pic)\n",
    "        next_grid_pic = np.rot90(next_grid_pic)\n",
    "        # indicate the position of the agent at the center\n",
    "        next_grid_pic[20,20,0] = 200\n",
    "        next_grid_pic[20,20,1] = 200\n",
    "        next_grid_pic[20,20,2] = 255\n",
    "        grid[grid_view_id].imshow(next_grid_pic)\n",
    "        grid[fpv_view_id].get_xaxis().set_ticks([])\n",
    "        grid[fpv_view_id].get_yaxis().set_ticks([])\n",
    "        grid[grid_view_id].get_xaxis().set_ticks([])\n",
    "        grid[grid_view_id].get_yaxis().set_ticks([])\n",
    "        plt.axis('off')\n",
    "        #plt.show()\n",
    "\n",
    "    return visualize_output\n",
    "    \n",
    "\n",
    "def apply_kernels_to_image(image, w):\n",
    "    \"\"\"\n",
    "    Apply the kernels w (channels, width, height) to the image using cv2.filter2D for each channel.\n",
    "    \"\"\"\n",
    "    filtered_image = image.copy()  # .data.cpu().clone().numpy() # convert to numpy array from a Tensor\n",
    "    #filtered_image = cv2.cvtColor(filtered_image, cv2.COLOR_BGR2RGB)\n",
    "    n_image_channels, width_image, height_image = filtered_image.shape\n",
    "    n_kernels, n_kernel_channels = w.shape[0], w.shape[1]\n",
    "    assert n_kernel_channels == n_image_channels, \"The number of image channels and kernel channels must match\"\n",
    "    n_channels = n_kernel_channels\n",
    "    # filtered_image = np.transpose(filtered_image, (1, 2, 0))   # transpose to go from torch to numpy image\n",
    "    filtered_images = np.zeros((n_kernels, n_channels, width_image, height_image))\n",
    "    for kernel_num in range(n_kernels):\n",
    "        image_copy = filtered_image.copy()\n",
    "        for channel_num in range(n_channels):  # Apply kernels to each color channel\n",
    "            filtered_images[kernel_num][channel_num] = cv2.filter2D(image_copy[channel_num], -1, w[kernel_num][channel_num]) \n",
    "\n",
    "    return filtered_images\n",
    "    # return torch.FloatTensor(filtered_images)\n",
    "\n",
    "\n",
    "def make_agent_clip(frames, w=None, normalize=True, nrows_ncols=(4, 4)):\n",
    "    fig = plt.figure(figsize=(8,4))\n",
    "    count = 0\n",
    "    visualize = visualize_output_func(fig, w=w, normalize=normalize, nrows_ncols=nrows_ncols)\n",
    "    anim = FuncAnimation(fig, visualize, interval=100, frames=frames, repeat=True)\n",
    "    return anim"
   ]
  },
  {
   "cell_type": "code",
   "execution_count": null,
   "metadata": {},
   "outputs": [],
   "source": [
    "%%time\n",
    "%%capture\n",
    "# Create a video clip to observe the agent.\n",
    "game_clip1 = make_agent_clip(results).to_html5_video()"
   ]
  },
  {
   "cell_type": "code",
   "execution_count": null,
   "metadata": {},
   "outputs": [],
   "source": [
    "HTML(game_clip1)"
   ]
  },
  {
   "cell_type": "markdown",
   "metadata": {},
   "source": [
    "When finished, you can close the environment."
   ]
  },
  {
   "cell_type": "code",
   "execution_count": null,
   "metadata": {},
   "outputs": [],
   "source": [
    "env.close()"
   ]
  },
  {
   "cell_type": "markdown",
   "metadata": {},
   "source": [
    "### 4. Train the Agent!\n",
    "\n",
    "The [example solution of the LunarLander Gym environment](https://github.com/udacity/deep-reinforcement-learning/blob/561eec3ae8678a23a4557f1a15414a9b076fdfff/dqn/solution/Deep_Q_Network_Solution.ipynb) was adapted for solving the Banana Collector.\n",
    "\n",
    "- For the Ray Perception sensor, the QNetwork with three fully connected linear layers and ReLu activation functions was adapted to the dimension of the observation and the action space only and performed very good.\r\n",
    "- For the Camera sensor, two network architectures were teste\n",
    "\n",
    "    - 3 layer CNN with 5x5 kernels, inspired by [this solution](https://github.com/tjwhitaker/human-level-control-through-deep-reinforcement-learning/blob/241901bd8baa7dc18b596795ebcef9e21adcd4eb/src/model.py) based on the DeepMind paper. It achieved ~50% of the score of the Ray Perception Sensor baseline.\r\n",
    "    - 2 layer CNN with a 9x9 kernel and 4x4 max pooling followed by a 5x5 kernel and a 2x2 max pooling followed by 3 fully connected layers performed much better and achieved ~75% of the score of the Ray Perception Sensor baseline.d"
   ]
  },
  {
   "cell_type": "code",
   "execution_count": null,
   "metadata": {},
   "outputs": [],
   "source": [
    "# model.py\n",
    "import torch\n",
    "import torch.nn as nn\n",
    "import torch.nn.functional as F\n",
    "\n",
    "class QNetwork_FC1(nn.Module):\n",
    "    \"\"\"Actor (Policy) Model.\"\"\"\n",
    "\n",
    "    def __init__(self, state_size, action_size, seed, fc1_units=300, fc2_units=200):  # 64, 64\n",
    "        \"\"\"Initialize parameters and build model.\n",
    "        Params\n",
    "        ======\n",
    "            state_size (int): Dimension of each state\n",
    "            action_size (int): Dimension of each action\n",
    "            seed (int): Random seed\n",
    "            fc1_units (int): Number of nodes in first hidden layer\n",
    "            fc2_units (int): Number of nodes in second hidden layer\n",
    "        \"\"\"\n",
    "        super(QNetwork, self).__init__()\n",
    "        self.seed = torch.manual_seed(seed)\n",
    "        self.fc1 = nn.Linear(state_size, fc1_units)\n",
    "        self.fc2 = nn.Linear(fc1_units, fc2_units)\n",
    "        self.fc3 = nn.Linear(fc2_units, action_size)\n",
    "\n",
    "    def forward(self, state):\n",
    "        \"\"\"Build a network that maps state -> action values.\"\"\"\n",
    "        x = F.relu(self.fc1(state))\n",
    "        x = F.relu(self.fc2(x))\n",
    "        return self.fc3(x)\n",
    "\n",
    "\n",
    "class QConvNetwork40(nn.Module):\n",
    "    # Camera, Field of view: 70, Resolution 40x40\n",
    "    def __init__(self, state_size, action_size, seed, fc1_units=128, fc2_units=128):\n",
    "        super(QConvNetwork40, self).__init__()\n",
    "        \n",
    "        # 3 input (image) channels (RGB) or (good, walls, bad), 16 output channels/feature maps, 9x9 square convolution kernel\n",
    "        ## output size = (W-F)/S +1 = (40-9)/1 +1 = 32\n",
    "        # the output Tensor for one image, will have the dimensions: (16, 8, 8)\n",
    "        self.conv1 = nn.Conv2d(3, 16, 9)\n",
    "\n",
    "        # maxpool layer\n",
    "        # pool with kernel_size=4, stride=4\n",
    "        self.pool1 = nn.MaxPool2d(4, 4)\n",
    "\n",
    "        # second conv layer: 16 inputs, 32 outputs, 5x5 conv\n",
    "        ## output size = (W-F)/S +1 = (8-5)/1 +1 = 4\n",
    "        # the output tensor will have dimensions: (32, 4, 4)\n",
    "        # after another pool layer this becomes (32, 2, 2)\n",
    "        self.conv2 = nn.Conv2d(16, 32, 5)\n",
    "\n",
    "        # maxpool layer\n",
    "        # pool with kernel_size=2, stride=2\n",
    "        self.pool2 = nn.MaxPool2d(2, 2)\n",
    "\n",
    "        self.fc1 = nn.Linear(32*2*2, fc1_units)\n",
    "        self.fc2 = nn.Linear(fc1_units, fc2_units)\n",
    "        self.fc3 = nn.Linear(fc2_units, action_size)\n",
    "\n",
    "    def forward(self, x):\n",
    "        # two conv/relu + pool layers\n",
    "        x = self.pool1(F.relu(self.conv1(x)))\n",
    "        x = self.pool2(F.relu(self.conv2(x)))\n",
    "        # x = self.pool(F.elu(self.conv3(x)))\n",
    "\n",
    "        # three linear layers with dropout in between\n",
    "        #print(x.shape)\n",
    "        x = x.view(x.size(0), -1)\n",
    "        x = F.relu(self.fc1(x))\n",
    "        #x = self.fc1_drop(x)\n",
    "        x = F.relu(self.fc2(x))\n",
    "        x = self.fc3(x)\n",
    "        # a modified x, having gone through all the layers of your model, should be returned\n",
    "        return x\n",
    "        ## Note that among the layers to add, consider including:\n",
    "        # maxpooling layers, multiple conv layers, fully-connected layers, and other layers (such as dropout or batch normalization) to avoid overfitting\n",
    "\n",
    "\n",
    "class QConvNetwork64(nn.Module):\n",
    "    # Camera, Field of view: 70, Resolution 40x40\n",
    "    def __init__(self, state_size, action_size, seed, fc1_units=288, fc2_units=256):\n",
    "        super(QConvNetwork64, self).__init__()\n",
    "        \n",
    "        # 3 input (image) channels (RGB) or (good, walls, bad), 16 output channels/feature maps, 9x9 square convolution kernel\n",
    "        ## output size = (W-F)/S +1 = (40-9)/1 +1 = 32\n",
    "        # the output Tensor for one image, will have the dimensions: (16, 8, 8)\n",
    "        self.conv1 = nn.Conv2d(3, 16, 13)\n",
    "\n",
    "        # maxpool layer\n",
    "        # pool with kernel_size=4, stride=4\n",
    "        self.pool1 = nn.MaxPool2d(4, 4)\n",
    "\n",
    "        # second conv layer: 16 inputs, 32 outputs, 5x5 conv\n",
    "        ## output size = (W-F)/S +1 = (8-5)/1 +1 = 4\n",
    "        # the output tensor will have dimensions: (32, 4, 4)\n",
    "        # after another pool layer this becomes (32, 2, 2)\n",
    "        self.conv2 = nn.Conv2d(16, 32, 7)\n",
    "\n",
    "        # maxpool layer\n",
    "        # pool with kernel_size=2, stride=2\n",
    "        self.pool2 = nn.MaxPool2d(2, 2)\n",
    "\n",
    "        self.fc1 = nn.Linear(288, fc1_units)\n",
    "        self.fc2 = nn.Linear(fc1_units, fc2_units)\n",
    "        self.fc3 = nn.Linear(fc2_units, action_size)\n",
    "\n",
    "    def forward(self, x):\n",
    "        # two conv/relu + pool layers\n",
    "        x = self.pool1(F.relu(self.conv1(x)))\n",
    "        x = self.pool2(F.relu(self.conv2(x)))\n",
    "        # x = self.pool(F.elu(self.conv3(x)))\n",
    "\n",
    "        # three linear layers with dropout in between\n",
    "        #print(x.shape)\n",
    "        x = x.view(x.size(0), -1)\n",
    "        x = F.relu(self.fc1(x))\n",
    "        #x = self.fc1_drop(x)\n",
    "        x = F.relu(self.fc2(x))\n",
    "        x = self.fc3(x)\n",
    "        # a modified x, having gone through all the layers of your model, should be returned\n",
    "        return x\n",
    "\n",
    "\n",
    "# https://github.com/tjwhitaker/human-level-control-through-deep-reinforcement-learning/blob/master/src/model.py\n",
    "class DQN40_HLC_paper(nn.Module):\n",
    "\tdef __init__(self, state_size, action_size, seed, fc1_units=128, fc2_units=128):\n",
    "\t\tsuper(DQN40_HLC_paper, self).__init__()\n",
    "        ## output size = (W-F)/S +1 = (40-5)/1 +1 = 36\n",
    "        # the output Tensor for one image, will have the dimensions: (16, 16, 16)\n",
    "\t\tself.conv1 = nn.Conv2d(3, 16, kernel_size=3, stride=2)  # kernel_size=5\n",
    "\t\tself.bn1 = nn.BatchNorm2d(16)\n",
    "        ## output size = (W-F)/S +1 = (16-5)/1 +1 = 12\n",
    "        # the output Tensor for one image, will have the dimensions: (32, 6, 6)\n",
    "\t\tself.conv2 = nn.Conv2d(16, 32, kernel_size=3, stride=2)\n",
    "\t\tself.bn2 = nn.BatchNorm2d(32)\n",
    "        ## output size = (W-F)/S +1 = (6-5)/1 +1 = 2\n",
    "        # the output Tensor for one image, will have the dimensions: (32, 2, 2)\n",
    "\t\tself.conv3 = nn.Conv2d(32, 32, kernel_size=3, stride=2)\n",
    "\t\tself.bn3 = nn.BatchNorm2d(32)\n",
    "\t\tself.head = nn.Linear(512, action_size)\n",
    "\n",
    "\tdef forward(self, x):\n",
    "\t\tx = F.relu(self.bn1(self.conv1(x)))\n",
    "\t\tx = F.relu(self.bn2(self.conv2(x)))\n",
    "\t\tx = F.relu(self.bn3(self.conv3(x)))\n",
    "\t\treturn self.head(x.view(x.size(0), -1))\n",
    "\n",
    "\n",
    "class DQN64_HLC_paper(nn.Module):\n",
    "\tdef __init__(self, state_size, action_size, seed, fc1_units=128, fc2_units=128):\n",
    "\t\tsuper(DQN64_HLC_paper, self).__init__()\n",
    "        ## output size = (W-F)/S +1 = (40-5)/1 +1 = 36\n",
    "        # the output Tensor for one image, will have the dimensions: (16, 16, 16)\n",
    "\t\tself.conv1 = nn.Conv2d(3, 16, kernel_size=7, stride=2)  # kernel_size=5\n",
    "\t\tself.bn1 = nn.BatchNorm2d(16)\n",
    "        ## output size = (W-F)/S +1 = (16-5)/1 +1 = 12\n",
    "        # the output Tensor for one image, will have the dimensions: (32, 6, 6)\n",
    "\t\tself.conv2 = nn.Conv2d(16, 32, kernel_size=7, stride=2)\n",
    "\t\tself.bn2 = nn.BatchNorm2d(32)\n",
    "        ## output size = (W-F)/S +1 = (6-5)/1 +1 = 2\n",
    "        # the output Tensor for one image, will have the dimensions: (32, 2, 2)\n",
    "\t\tself.conv3 = nn.Conv2d(32, 32, kernel_size=7, stride=2)\n",
    "\t\tself.bn3 = nn.BatchNorm2d(32)\n",
    "\t\tself.head = nn.Linear(288, action_size)\n",
    "\n",
    "\tdef forward(self, x):\n",
    "\t\tx = F.relu(self.bn1(self.conv1(x)))\n",
    "\t\tx = F.relu(self.bn2(self.conv2(x)))\n",
    "\t\tx = F.relu(self.bn3(self.conv3(x)))\n",
    "\t\treturn self.head(x.view(x.size(0), -1))"
   ]
  },
  {
   "cell_type": "code",
   "execution_count": null,
   "metadata": {},
   "outputs": [],
   "source": [
    "# dqn_agent.py\n",
    "import numpy as np\n",
    "import random\n",
    "from collections import namedtuple, deque\n",
    "\n",
    "#from model import QNetwork\n",
    "\n",
    "import torch\n",
    "import torch.nn.functional as F\n",
    "import torch.optim as optim\n",
    "\n",
    "BUFFER_SIZE = int(1e5)  # replay buffer size\n",
    "BATCH_SIZE = 64         # minibatch size\n",
    "GAMMA = 0.99            # discount factor\n",
    "TAU = 1e-3              # for soft update of target parameters\n",
    "LR = 5e-4               # learning rate \n",
    "UPDATE_EVERY = 8  #4      # how often to update the network\n",
    "\n",
    "device = torch.device(\"cuda:0\" if torch.cuda.is_available() else \"cpu\")\n",
    "\n",
    "\n",
    "action_d = {\n",
    "    0: np.array([0, 1,0], dtype='float'),  # walk forward\n",
    "    1: np.array([0,-1,0], dtype='float'),  # walk backward\n",
    "    2: np.array([0,0, 1], dtype='float'),  # turn right\n",
    "    3: np.array([0,0,-1], dtype='float'),  # turn left\n",
    "    4: np.array([ 1,0,0], dtype='float'),  # walk right\n",
    "    5: np.array([-1,0,0], dtype='float'),  # walk left\n",
    "}\n",
    "\n",
    "\n",
    "class Agent():\n",
    "    \"\"\"Interacts with and learns from the environment.\"\"\"\n",
    "\n",
    "    def __init__(self, state_size, action_size, seed):\n",
    "        \"\"\"Initialize an Agent object.\n",
    "        \n",
    "        Params\n",
    "        ======\n",
    "            state_size (int): dimension of each state\n",
    "            action_size (int): dimension of each action\n",
    "            seed (int): random seed\n",
    "        \"\"\"\n",
    "        self.state_size = state_size\n",
    "        self.action_size = action_size\n",
    "        self.seed = random.seed(seed)\n",
    "\n",
    "        # Q-Network\n",
    "        self.qnetwork_local = QNetwork(state_size, action_size, seed).to(device)\n",
    "        self.qnetwork_target = QNetwork(state_size, action_size, seed).to(device)\n",
    "        self.optimizer = optim.Adam(self.qnetwork_local.parameters(), lr=LR)\n",
    "\n",
    "        # Replay memory\n",
    "        self.memory = ReplayBuffer(action_size, BUFFER_SIZE, BATCH_SIZE, seed)\n",
    "        # Initialize time step (for updating every UPDATE_EVERY steps)\n",
    "        self.t_step = 0\n",
    "    \n",
    "    def step(self, state, action, reward, next_state, done):\n",
    "        # Save experience in replay memory\n",
    "        self.memory.add(state, action, reward, next_state, done)\n",
    "        \n",
    "        # Learn every UPDATE_EVERY time steps.\n",
    "        self.t_step = (self.t_step + 1) % UPDATE_EVERY\n",
    "        if self.t_step == 0:\n",
    "            # If enough samples are available in memory, get random subset and learn\n",
    "            if len(self.memory) > BATCH_SIZE:\n",
    "                experiences = self.memory.sample()\n",
    "                self.learn(experiences, GAMMA)\n",
    "\n",
    "    def act(self, state, eps=0.):\n",
    "        \"\"\"Returns actions for given state as per current policy.\n",
    "        \n",
    "        Params\n",
    "        ======\n",
    "            state (array_like): current state\n",
    "            eps (float): epsilon, for epsilon-greedy action selection\n",
    "        \"\"\"\n",
    "        state = torch.from_numpy(state).float().unsqueeze(0).to(device)\n",
    "        self.qnetwork_local.eval()\n",
    "        with torch.no_grad():\n",
    "            action_values = self.qnetwork_local(state)\n",
    "        self.qnetwork_local.train()\n",
    "\n",
    "        # Epsilon-greedy action selection\n",
    "        if random.random() > eps:\n",
    "            return np.argmax(action_values.cpu().data.numpy())\n",
    "        else:\n",
    "            return random.randint(0, self.action_size-1)\n",
    "            # return random.choice(np.arange(self.action_size))\n",
    "\n",
    "    def learn(self, experiences, gamma):\n",
    "        \"\"\"Update value parameters using given batch of experience tuples.\n",
    "\n",
    "        Params\n",
    "        ======\n",
    "            experiences (Tuple[torch.Tensor]): tuple of (s, a, r, s', done) tuples \n",
    "            gamma (float): discount factor\n",
    "        \"\"\"\n",
    "        states, actions, rewards, next_states, dones = experiences\n",
    "\n",
    "        # Get max predicted Q values (for next states) from target model\n",
    "        Q_targets_next = self.qnetwork_target(next_states).detach().max(1)[0].unsqueeze(1)\n",
    "        # Compute Q targets for current states \n",
    "        Q_targets = rewards + (gamma * Q_targets_next * (1 - dones))\n",
    "\n",
    "        # Get expected Q values from local model\n",
    "        Q_expected = self.qnetwork_local(states).gather(1, actions)\n",
    "\n",
    "        # Compute loss\n",
    "        loss = F.mse_loss(Q_expected, Q_targets)\n",
    "        # Minimize the loss\n",
    "        self.optimizer.zero_grad()\n",
    "        loss.backward()\n",
    "        self.optimizer.step()\n",
    "\n",
    "        # ------------------- update target network ------------------- #\n",
    "        self.soft_update(self.qnetwork_local, self.qnetwork_target, TAU)                     \n",
    "\n",
    "    def soft_update(self, local_model, target_model, tau):\n",
    "        \"\"\"Soft update model parameters.\n",
    "        θ_target = τ*θ_local + (1 - τ)*θ_target\n",
    "\n",
    "        Params\n",
    "        ======\n",
    "            local_model (PyTorch model): weights will be copied from\n",
    "            target_model (PyTorch model): weights will be copied to\n",
    "            tau (float): interpolation parameter \n",
    "        \"\"\"\n",
    "        for target_param, local_param in zip(target_model.parameters(), local_model.parameters()):\n",
    "            target_param.data.copy_(tau*local_param.data + (1.0-tau)*target_param.data)\n",
    "\n",
    "\n",
    "# states_ReplayBuffer = None\n",
    "class ReplayBuffer:\n",
    "    \"\"\"Fixed-size buffer to store experience tuples.\"\"\"\n",
    "\n",
    "    def __init__(self, action_size, buffer_size, batch_size, seed):\n",
    "        \"\"\"Initialize a ReplayBuffer object.\n",
    "\n",
    "        Params\n",
    "        ======\n",
    "            action_size (int): dimension of each action\n",
    "            buffer_size (int): maximum size of buffer\n",
    "            batch_size (int): size of each training batch\n",
    "            seed (int): random seed\n",
    "        \"\"\"\n",
    "        self.action_size = action_size\n",
    "        self.memory = deque(maxlen=buffer_size)  \n",
    "        self.batch_size = batch_size\n",
    "        self.experience = namedtuple(\"Experience\", field_names=[\"state\", \"action\", \"reward\", \"next_state\", \"done\"])\n",
    "        self.seed = random.seed(seed)\n",
    "    \n",
    "    def add(self, state, action, reward, next_state, done):\n",
    "        \"\"\"Add a new experience to memory.\"\"\"\n",
    "        e = self.experience(state, action, reward, next_state, done)\n",
    "        self.memory.append(e)\n",
    "    \n",
    "    def sample(self):\n",
    "        \"\"\"Randomly sample a batch of experiences from memory.\"\"\"\n",
    "        experiences = random.sample(self.memory, k=self.batch_size)\n",
    "\n",
    "        # global states_ReplayBuffer\n",
    "        # states_ReplayBuffer = [e.state for e in experiences if e is not None]\n",
    "        states = torch.from_numpy(np.stack([e.state for e in experiences if e is not None])).float().to(device)  # stack was vstack\n",
    "        actions = torch.from_numpy(np.vstack([e.action for e in experiences if e is not None])).long().to(device)\n",
    "        rewards = torch.from_numpy(np.vstack([e.reward for e in experiences if e is not None])).float().to(device)\n",
    "        next_states = torch.from_numpy(np.stack([e.next_state for e in experiences if e is not None])).float().to(device)\n",
    "        dones = torch.from_numpy(np.vstack([e.done for e in experiences if e is not None]).astype(np.uint8)).float().to(device)\n",
    "  \n",
    "        return (states, actions, rewards, next_states, dones)\n",
    "\n",
    "    def __len__(self):\n",
    "        \"\"\"Return the current size of internal memory.\"\"\"\n",
    "        return len(self.memory)"
   ]
  },
  {
   "cell_type": "code",
   "execution_count": null,
   "metadata": {},
   "outputs": [],
   "source": [
    "# Run this cell to setup the agent for the Ray Perception Sensor\n",
    "if unity_sensor_id == 2:  # Ray Perception Sensor\n",
    "    QNetwork = QNetwork_FC1\n",
    "    agent = Agent(state_size=207, action_size=6, seed=42)\n",
    "elif unity_sensor_id == 0:  # Camera Sensor\n",
    "    # QNetwork = QConvNetwork40\n",
    "    QNetwork = QConvNetwork64\n",
    "    # QNetwork = DQN40_HLC_paper\n",
    "    #QNetwork = DQN64_HLC_paper\n",
    "    agent = Agent(state_size=0, action_size=6, seed=42)\n",
    "else:\n",
    "    raise ValueError(\"unity_sensor_id must be 0 or 2.\")"
   ]
  },
  {
   "cell_type": "code",
   "execution_count": null,
   "metadata": {},
   "outputs": [],
   "source": [
    "# from dqn_agent import Agent\n",
    "\n",
    "def agent_gen(learn=False, n=100, eps=0., sensor_id=0):\n",
    "    \"\"\"\n",
    "    Generator to\n",
    "    \"\"\"\n",
    "    obs = env.reset()\n",
    "    score = 0\n",
    "    for i in range(n):\n",
    "        # state_visual_obs = np.take(env_info, [0,2,3], axis=0) / 255.0 # normalize\n",
    "        # state_visual_obs_1d = state_visual_obs.ravel()  # flatten\n",
    "        action = agent.act(obs[sensor_id], eps)\n",
    "        next_obs, rewards, done, info = env.step(action_d[action])   # send the action to the environment\n",
    "        if learn:\n",
    "            agent.step(obs[sensor_id], action, rewards, next_obs[sensor_id], done)\n",
    "        obs = next_obs\n",
    "        score += rewards\n",
    "        if done:\n",
    "            break\n",
    "        yield next_obs, rewards, score, action"
   ]
  },
  {
   "cell_type": "code",
   "execution_count": null,
   "metadata": {},
   "outputs": [],
   "source": [
    "%%time\n",
    "#%%capture\n",
    "# The \"Untrained Agent\" runs for n steps\n",
    "results_untrained = list(agent_gen(n=30, sensor_id=unity_sensor_id))"
   ]
  },
  {
   "cell_type": "code",
   "execution_count": null,
   "metadata": {},
   "outputs": [],
   "source": [
    "%%capture\n",
    "game_clip2 = make_agent_clip(frames=results_untrained).to_html5_video()"
   ]
  },
  {
   "cell_type": "code",
   "execution_count": null,
   "metadata": {},
   "outputs": [],
   "source": [
    "# [x 0 0]: move 1:right, -1:left\n",
    "# [0 x 0]: move 1:forward, -1:backward\n",
    "# [0 0 x]: turn 1:right, -1:left\n",
    "HTML(game_clip2)"
   ]
  },
  {
   "cell_type": "code",
   "execution_count": null,
   "metadata": {},
   "outputs": [],
   "source": [
    "import pickle\n",
    "\n",
    "def save_trained_nn(nn, scores=None, episode=None, results=None, export_onnx=True, dummy_input=None):\n",
    "    name = nn.__class__.__name__\n",
    "    if episode is None:\n",
    "        saved_models_path = 'saved_models'\n",
    "        episode_suffix = ''\n",
    "    else:\n",
    "        saved_models_path = 'temporary_checkpoints'\n",
    "        episode_suffix = '__' + str(episode)\n",
    "    torch.save(nn.state_dict(), os.path.join(saved_models_path, name+episode_suffix+'.pth'))\n",
    "    if scores is not None:\n",
    "        np.save(os.path.join(\n",
    "            saved_models_path, name+episode_suffix+'.scores.npy'), np.array(scores), allow_pickle=False, fix_imports=True)\n",
    "    if results is not None:\n",
    "        with open(os.path.join(saved_models_path, name+episode_suffix+'.results.pickle.dump'), 'wb') as pickle_dump_file:\n",
    "            pickle.dump(results, pickle_dump_file)\n",
    "    if export_onnx:\n",
    "        dummy_input_on_device = torch.from_numpy(dummy_input).float().unsqueeze(0).to(device)\n",
    "        torch.onnx.export(\n",
    "                nn,\n",
    "                dummy_input_on_device,       # model input (or a tuple for multiple inputs)\n",
    "                os.path.join(saved_models_path, name+episode_suffix+'.onnx'),\n",
    "                export_params=True,          # store the trained parameter weights inside the model file\n",
    "                opset_version=10,            # the ONNX version to export the model to\n",
    "                do_constant_folding=True,    # whether to execute constant folding for optimization\n",
    "                input_names=['vector_observation'],  # the model's input name\n",
    "                output_names=['continuous_actions'],   # the model's output names\n",
    "                dynamic_axes={'vector_observation': {0: 'batch_size'},  # dynamic axis for the input tensor\n",
    "                              'continuous_actions': {0: 'batch_size'}}\n",
    "            )\n",
    "\n",
    "\n",
    "def load_trained_nn(nn):\n",
    "    name = nn.__class__.__name__\n",
    "    nn.load_state_dict(torch.load(os.path.join('saved_models', name+'.pth')))\n",
    "    nn.eval()"
   ]
  },
  {
   "cell_type": "code",
   "execution_count": null,
   "metadata": {},
   "outputs": [],
   "source": [
    "def load_dump(nn):\n",
    "    name = nn.__class__.__name__\n",
    "    #return pickle.load()\n",
    "    with open(os.path.join('saved_models', name+'.results.pickle.dump'), 'rb') as pickle_file:\n",
    "        content = pickle.load(pickle_file)\n",
    "    return content"
   ]
  },
  {
   "cell_type": "code",
   "execution_count": null,
   "metadata": {},
   "outputs": [],
   "source": [
    "pickle.loads"
   ]
  },
  {
   "cell_type": "code",
   "execution_count": null,
   "metadata": {},
   "outputs": [],
   "source": [
    "results = load_dump(agent.qnetwork_local)"
   ]
  },
  {
   "cell_type": "code",
   "execution_count": null,
   "metadata": {},
   "outputs": [],
   "source": [
    "%%time\n",
    "\n",
    "results = list()\n",
    "\n",
    "def dqn(sensor_id=2, n_episodes=2000, max_t=1500, eps_start=1.0, eps_end=0.01, eps_decay=0.995, print_every=100, save_every=None):\n",
    "    \"\"\"Deep Q-Learning.\n",
    "    \n",
    "    Params\n",
    "    ======\n",
    "        n_episodes (int): maximum number of training episodes\n",
    "        max_t (int): maximum number of timesteps per episode\n",
    "        eps_start (float): starting value of epsilon, for epsilon-greedy action selection\n",
    "        eps_end (float): minimum value of epsilon\n",
    "        eps_decay (float): multiplicative factor (per episode) for decreasing epsilon\n",
    "    \"\"\"\n",
    "    global results\n",
    "    scores = []                        # list containing scores from each episode\n",
    "    scores_window = deque(maxlen=print_every)  # last \"print_every\" scores\n",
    "    eps = eps_start                    # initialize epsilon\n",
    "    for i_episode in range(1, n_episodes+1):\n",
    "        results = list(agent_gen(learn=True, n=max_t, eps=eps, sensor_id=sensor_id))\n",
    "        score = results[-1][2]\n",
    "        scores_window.append(score)       # save most recent score\n",
    "        scores.append(score)              # save most recent score\n",
    "        eps = max(eps_end, eps_decay*eps) # decrease epsilon\n",
    "        print('\\rEpisode {}\\tAverage Score: {:.2f}'.format(i_episode, np.mean(scores_window)), end=\"\")\n",
    "        if i_episode % print_every == 0:\n",
    "            print('\\rEpisode {}\\tAverage Score: {:.2f}'.format(i_episode, np.mean(scores_window)))\n",
    "        if save_every is not None:\n",
    "            if i_episode % save_every == 0:\n",
    "                save_trained_nn(agent.qnetwork_local, scores=scores, episode=i_episode, export_onnx=False)\n",
    "        if np.mean(scores_window)>=100.0:\n",
    "            print('\\nEnvironment solved in {:d} episodes!\\tAverage Score: {:.2f}'.format(i_episode-print_every, np.mean(scores_window)))\n",
    "            torch.save(agent.qnetwork_local.state_dict(), 'checkpoint.pth')\n",
    "            break\n",
    "    return scores\n",
    "\n",
    "# sensor_id 0: Camera Sensor, 1: Grid Sensor, 2: Ray Perception Sensor 3D\n",
    "if unity_sensor_id == 2:\n",
    "    scores = dqn(n_episodes=2000, sensor_id=unity_sensor_id, save_every=10)\n",
    "if unity_sensor_id == 0:\n",
    "    BUFFER_SIZE = int(2e5)  # replay buffer size\n",
    "    BATCH_SIZE = 128        # minibatch size\n",
    "    GAMMA = 0.995           # discount factor\n",
    "    TAU = 1e-3              # for soft update of target parameters\n",
    "    LR = 8e-4               # learning rate\n",
    "    UPDATE_EVERY = 10  #4      # how often to update the network\n",
    "    scores = dqn(n_episodes=2000, sensor_id=unity_sensor_id, save_every=10,  eps_decay=0.9973)\n",
    "\n",
    "trained = True\n",
    "# plot the scores\n",
    "fig = plt.figure()\n",
    "ax = fig.add_subplot(111)\n",
    "plt.plot(np.arange(len(scores)), scores)\n",
    "plt.ylabel('Score')\n",
    "plt.xlabel('Episode #')\n",
    "plt.show()"
   ]
  },
  {
   "cell_type": "code",
   "execution_count": null,
   "metadata": {},
   "outputs": [],
   "source": [
    "more_scores = dqn(n_episodes=5, eps_start=0.015, sensor_id=unity_sensor_id, eps_decay=0.997)"
   ]
  },
  {
   "cell_type": "code",
   "execution_count": null,
   "metadata": {},
   "outputs": [],
   "source": [
    "%%capture\n",
    "game_clip_training = make_game_clip(frames=results[0:200], scale_adjustment=1.25).to_html5_video()"
   ]
  },
  {
   "cell_type": "code",
   "execution_count": null,
   "metadata": {},
   "outputs": [],
   "source": [
    "HTML(game_clip_training)"
   ]
  },
  {
   "cell_type": "code",
   "execution_count": null,
   "metadata": {},
   "outputs": [],
   "source": [
    "results[0][1]"
   ]
  },
  {
   "cell_type": "code",
   "execution_count": null,
   "metadata": {},
   "outputs": [],
   "source": [
    "device"
   ]
  },
  {
   "cell_type": "code",
   "execution_count": null,
   "metadata": {},
   "outputs": [],
   "source": [
    "# Save model. WARNING: An existing model will be overwritten\n",
    "if trained:\n",
    "    save_trained_nn(agent.qnetwork_local, scores=scores, results=results, dummy_input=results[0][0][unity_sensor_id])\n",
    "else:\n",
    "    print(\"Didn't save, because the model was not trained yet.\")"
   ]
  },
  {
   "cell_type": "code",
   "execution_count": null,
   "metadata": {},
   "outputs": [],
   "source": [
    "# Load trained model\n",
    "if not trained:\n",
    "    load_trained_nn(agent.qnetwork_local)"
   ]
  },
  {
   "cell_type": "code",
   "execution_count": null,
   "metadata": {},
   "outputs": [],
   "source": [
    "%%time\n",
    "#%%capture\n",
    "# The \"trained Agent\" runs for n steps\n",
    "results_trained = list(agent_gen(n=100, sensor_id=unity_sensor_id))"
   ]
  },
  {
   "cell_type": "code",
   "execution_count": null,
   "metadata": {},
   "outputs": [],
   "source": [
    "results_trained = results[0:100]"
   ]
  },
  {
   "cell_type": "code",
   "execution_count": null,
   "metadata": {},
   "outputs": [],
   "source": [
    "%%time\n",
    "%%capture\n",
    "game_clip4 = make_agent_clip(results_trained, normalize=True).to_html5_video()"
   ]
  },
  {
   "cell_type": "code",
   "execution_count": null,
   "metadata": {},
   "outputs": [],
   "source": [
    "HTML(game_clip4)"
   ]
  },
  {
   "cell_type": "code",
   "execution_count": null,
   "metadata": {},
   "outputs": [],
   "source": [
    "%%time\n",
    "%%capture\n",
    "weigths_conv1 = agent.qnetwork_local.conv1.weight.data.cpu().clone().numpy()\n",
    "game_clip5 = make_agent_clip(results_trained[0:10], weigths_conv1, normalize=True).to_html5_video()"
   ]
  },
  {
   "cell_type": "code",
   "execution_count": null,
   "metadata": {},
   "outputs": [],
   "source": [
    "HTML(game_clip5)"
   ]
  },
  {
   "cell_type": "code",
   "execution_count": null,
   "metadata": {},
   "outputs": [],
   "source": [
    "%%capture\n",
    "fig = plt.figure(figsize=(9,4))\n",
    "weigths_conv1 = agent.qnetwork_local.conv1.weight.data.cpu().clone().numpy()\n",
    "# filtered_images_cv = apply_kernels_to_image(results[25][0][0], weigths_conv1)\n",
    "visualize_output_func(fig, weigths_conv1)(results[9])"
   ]
  },
  {
   "cell_type": "code",
   "execution_count": null,
   "metadata": {},
   "outputs": [],
   "source": [
    "def running_mean2(x, N):\n",
    "    return np.convolve(x, np.ones(N)/N, mode='valid')\n",
    "\n",
    "\n",
    "def running_mean(x, N):\n",
    "    cumsum = np.cumsum(np.insert(x, 0, 0)) \n",
    "    return (cumsum[N:] - cumsum[:-N]) / float(N)\n",
    "\n",
    "def running_mean_lagless(x, N):\n",
    "    rm_forward = running_mean(x, N)\n",
    "    rm_backward = np.flip(running_mean(np.flip(x), N))\n",
    "    return rm_forward / 2 + rm_backward / 2 \n",
    "\n",
    "\n",
    "def load_scores(path):\n",
    "    scores_d = {}\n",
    "    for filename in os.listdir(path):\n",
    "        if filename.endswith('.scores.npy'):\n",
    "            model_name = filename.split('.scores.npy')[0]\n",
    "            scores_d[model_name] = np.load(os.path.join(path, filename))\n",
    "    return scores_d\n",
    "\n",
    "scores_d = load_scores('saved_models')"
   ]
  },
  {
   "cell_type": "code",
   "execution_count": null,
   "metadata": {},
   "outputs": [],
   "source": [
    "fig = plt.figure()\n",
    "ax = fig.add_subplot(111)\n",
    "scores = scores_d['QConvNetwork40']\n",
    "scores_mean = running_mean2(scores, 100)\n",
    "ax.plot(np.arange(len(scores)), scores)\n",
    "ax.plot(np.arange(len(scores_mean)), scores_mean)"
   ]
  },
  {
   "cell_type": "code",
   "execution_count": null,
   "metadata": {},
   "outputs": [],
   "source": [
    "scores_d"
   ]
  },
  {
   "cell_type": "code",
   "execution_count": null,
   "metadata": {},
   "outputs": [],
   "source": [
    "running_mean(scores_d['QConvNetwork40'], 10)"
   ]
  },
  {
   "cell_type": "code",
   "execution_count": null,
   "metadata": {},
   "outputs": [],
   "source": [
    "import onnx"
   ]
  },
  {
   "cell_type": "code",
   "execution_count": null,
   "metadata": {},
   "outputs": [],
   "source": [
    "next_ray_obs = None\n",
    "\n",
    "def make_game_clip(frames=np.zeros(action_size), scale_adjustment=1.0):\n",
    "    fig = plt.figure(figsize=(7,3))\n",
    "    ax_grid = fig.add_subplot(1, 2, 1)\n",
    "    ax_ray  = fig.add_subplot(1, 2, 2, projection='polar')\n",
    "    ax_ray.set_ylim(0,ray_length)\n",
    "    count = 0\n",
    "    # Compute pie slices\n",
    "    N = 2*rays_per_direction+1\n",
    "    theta = np.linspace(0.0, max_ray_degrees/180 * 2 * np.pi, N, endpoint=False) -  max_ray_degrees / 180 * np.pi\n",
    "\n",
    "    def animate(frame_data):\n",
    "        # Grid sensor\n",
    "        nonlocal count\n",
    "        next_obs, rewards, score = frame_data\n",
    "        next_grid_obs = next_obs[0]\n",
    "        ax_grid.clear()\n",
    "        ax_grid.set_title('Step {}  Score {}'.format(count, score),fontsize=10, fontweight='bold')\n",
    "        count = count + 1\n",
    "        img_mat = next_grid_obs[0] + next_grid_obs[1]*0.75 + next_grid_obs[2]*0.5 # 0: food, 3: bad food, 2: wall\n",
    "        ax_grid.imshow(img_mat)\n",
    "\n",
    "        # Ray Perception Sensor\n",
    "        ax_ray.clear()\n",
    "        ax_ray.set_ylim(0,ray_length)\n",
    "        # global next_ray_obs\n",
    "        # next_ray_obs = next_obs[1].reshape(3, 3, N+10)\n",
    "        # offset = 0*(N+10)\n",
    "        # radii = next_ray_obs[1,1,:] * ray_length\n",
    "        # width = 0.05*np.pi / 4 #* np.random.rand(N)\n",
    "        # ax_ray.bar(theta, radii, width=width, bottom=0.0, color='orange', alpha=0.5)\n",
    "\n",
    "    anim = FuncAnimation(fig, animate, interval=100, frames=frames, repeat=True)\n",
    "    return anim"
   ]
  },
  {
   "cell_type": "code",
   "execution_count": null,
   "metadata": {},
   "outputs": [],
   "source": [
    "(13+10)*3*3"
   ]
  },
  {
   "cell_type": "code",
   "execution_count": null,
   "metadata": {},
   "outputs": [],
   "source": [
    "#next_ray_obs[0,0,:]"
   ]
  },
  {
   "cell_type": "code",
   "execution_count": null,
   "metadata": {},
   "outputs": [],
   "source": [
    "%%time\n",
    "%%capture\n",
    "learn_game_clip = make_game_clip(frames=results[45:67], scale_adjustment=1.25).to_html5_video()"
   ]
  },
  {
   "cell_type": "code",
   "execution_count": null,
   "metadata": {},
   "outputs": [],
   "source": [
    "%%time\n",
    "%%capture\n",
    "learn_game_clip = make_game_clip(frames=results[45:67], scale_adjustment=1.25).to_html5_video()"
   ]
  },
  {
   "cell_type": "code",
   "execution_count": null,
   "metadata": {},
   "outputs": [],
   "source": [
    "HTML(learn_game_clip)"
   ]
  },
  {
   "cell_type": "code",
   "execution_count": null,
   "metadata": {},
   "outputs": [],
   "source": [
    "len(theta)"
   ]
  },
  {
   "cell_type": "code",
   "execution_count": null,
   "metadata": {},
   "outputs": [],
   "source": []
  },
  {
   "cell_type": "code",
   "execution_count": null,
   "metadata": {},
   "outputs": [],
   "source": [
    "import matplotlib.pyplot as plt\n",
    "import numpy as np\n",
    "\n",
    "ray_length = 30\n",
    "rays_per_direction = 6\n",
    "max_ray_degrees = 60\n",
    "\n",
    "# Fixing random state for reproducibility\n",
    "np.random.seed(19680801)\n",
    "\n",
    "# Compute pie slices\n",
    "N = 2*rays_per_direction+1\n",
    "theta = np.linspace(0.0, max_ray_degrees/180 * 2 * np.pi, N, endpoint=False) -  max_ray_degrees / 180 * np.pi\n",
    "radii = 10 * np.random.rand(N)\n",
    "width = 0.05*np.pi / 4 #* np.random.rand(N)\n",
    "colors = plt.cm.viridis(radii / 10.)\n",
    "\n",
    "ax = plt.subplot(projection='polar')\n",
    "# ax.bar(theta, radii, width=width, bottom=0.0, color=colors, alpha=0.5)\n",
    "ax.bar(theta, radii, width=width, bottom=0.0, color='orange', alpha=0.5)\n",
    "\n",
    "plt.show()"
   ]
  },
  {
   "cell_type": "code",
   "execution_count": null,
   "metadata": {},
   "outputs": [],
   "source": [
    "import netron"
   ]
  },
  {
   "cell_type": "code",
   "execution_count": null,
   "metadata": {},
   "outputs": [],
   "source": [
    "netron.start(file='saved_models/QConvNetwork40.onnx')"
   ]
  },
  {
   "cell_type": "code",
   "execution_count": null,
   "metadata": {},
   "outputs": [],
   "source": [
    "netron.start(file='GridFoodCollector2.onnx')"
   ]
  },
  {
   "cell_type": "code",
   "execution_count": null,
   "metadata": {},
   "outputs": [],
   "source": [
    "env.close()"
   ]
  },
  {
   "cell_type": "code",
   "execution_count": null,
   "metadata": {},
   "outputs": [],
   "source": []
  }
 ],
 "metadata": {
  "kernelspec": {
   "display_name": "Python 3 (ipykernel)",
   "language": "python",
   "name": "python3"
  },
  "language_info": {
   "codemirror_mode": {
    "name": "ipython",
    "version": 3
   },
   "file_extension": ".py",
   "mimetype": "text/x-python",
   "name": "python",
   "nbconvert_exporter": "python",
   "pygments_lexer": "ipython3",
   "version": "3.10.12"
  }
 },
 "nbformat": 4,
 "nbformat_minor": 4
}
