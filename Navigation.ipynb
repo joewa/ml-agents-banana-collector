{
 "cells": [
  {
   "cell_type": "markdown",
   "metadata": {},
   "source": [
    "# Navigation notebook\n",
    "\n",
    "---\n",
    "\n",
    "In this notebook, you will learn how to use the Unity ML-Agents environment for the first project of the [Deep Reinforcement Learning Nanodegree](https://www.udacity.com/course/deep-reinforcement-learning-nanodegree--nd893).\n",
    "\n",
    "## 1. Start the Environment\n",
    "\n",
    "We begin by importing some necessary packages.  If the code cell below returns an error, please revisit the project instructions to double-check that you have installed [Unity ML-Agents](https://github.com/Unity-Technologies/ml-agents/blob/master/docs/Installation.md) and [NumPy](http://www.numpy.org/)."
   ]
  },
  {
   "cell_type": "code",
   "execution_count": null,
   "metadata": {},
   "outputs": [],
   "source": [
    "# from unityagents import UnityEnvironment\n",
    "import os\n",
    "from mlagents_envs.environment import ActionTuple, BaseEnv\n",
    "from mlagents_envs.registry import default_registry\n",
    "from mlagents_envs.environment import UnityEnvironment\n",
    "from mlagents_envs.side_channel.engine_configuration_channel import EngineConfigurationChannel\n",
    "from mlagents_envs.side_channel.environment_parameters_channel import EnvironmentParametersChannel\n",
    "import numpy as np\n",
    "import matplotlib.pyplot as plt\n",
    "from mpl_toolkits.axes_grid1 import ImageGrid, Grid\n",
    "from matplotlib.animation import FuncAnimation\n",
    "import matplotlib.animation as animation\n",
    "import cv2\n",
    "from IPython.display import display, HTML\n",
    "trained = False  # Didn't train yet."
   ]
  },
  {
   "cell_type": "markdown",
   "metadata": {},
   "source": [
    "Modifying the EngineConfiguration or EnvironmentParameters is possibile through *side channels*. Increasing the `time_scale` to speed up the training process is very useful."
   ]
  },
  {
   "cell_type": "code",
   "execution_count": null,
   "metadata": {},
   "outputs": [],
   "source": [
    "time_scale = 5  # 20\n",
    "# capture_frame_rate = 60\n",
    "# target_frame_rate = 300\n",
    "eng_channel = EngineConfigurationChannel()\n",
    "params_channel = EnvironmentParametersChannel()"
   ]
  },
  {
   "cell_type": "markdown",
   "metadata": {},
   "source": [
    "Next, we will start the environment! There are a few ways to do this\n",
    "- Run the Environment in Unity. This option provides the most flexibile user interaction and analytics experience. Execute the following cell and then press the \"play\" button in Unity.\n",
    "- Run the compiled environment with display output to observe the agent while training.\n",
    "- Run the headless compiled environment for the fastest training or on a cloud platform."
   ]
  },
  {
   "cell_type": "code",
   "execution_count": null,
   "metadata": {},
   "outputs": [],
   "source": [
    "unity_env = UnityEnvironment(side_channels=[eng_channel, params_channel], seed=42)"
   ]
  },
  {
   "cell_type": "markdown",
   "metadata": {},
   "source": [
    "Execute the following cell if you want to run a compiled environment. **_Before running the code cell below_**, change the `exefile` parameter to match the location of the Unity environment that you <strike>downloaded</strike> have built."
   ]
  },
  {
   "cell_type": "code",
   "execution_count": null,
   "metadata": {
    "tags": [
     "hide-input"
    ]
   },
   "outputs": [],
   "source": [
    "import os.path\n",
    "# exefile = '/home/joerg/repos/deep-reinforcement-learning/p1_navigation/FoodCollectorLinuxHeadless/foodCollectorHeadless.x86_64'\n",
    "exefile = '/home/joerg/repos/deep-reinforcement-learning/p1_navigation/RayFoodCollectorLinuxHeadless/foodCollector.x86_64'\n",
    "if os.path.isfile(exefile):\n",
    "    # env = UnityEnvironment(file_name=\"...\")\n",
    "    unity_env = UnityEnvironment(\n",
    "        file_name=exefile,\n",
    "        side_channels=[eng_channel, params_channel], seed=42)\n",
    "else:\n",
    "    print(\"File doesn't exist. Cannot start environment\")"
   ]
  },
  {
   "cell_type": "markdown",
   "metadata": {},
   "source": [
    "Apply the side channel configuration."
   ]
  },
  {
   "cell_type": "code",
   "execution_count": null,
   "metadata": {},
   "outputs": [],
   "source": [
    "engine_config = {\n",
    "                 \"time_scale\": time_scale,\n",
    "                 #\"capture_frame_rate\": capture_frame_rate,\n",
    "                 #\"target_frame_rate\": target_frame_rate\n",
    "                 }\n",
    "eng_channel.set_configuration_parameters(**engine_config)"
   ]
  },
  {
   "cell_type": "code",
   "execution_count": null,
   "metadata": {
    "tags": [
     "remove-cell"
    ]
   },
   "outputs": [],
   "source": [
    "behavior_names = unity_env.behavior_specs.keys()\n",
    "#set(behavior_names)\n",
    "behavior_names"
   ]
  },
  {
   "cell_type": "code",
   "execution_count": null,
   "metadata": {
    "tags": [
     "remove-cell"
    ]
   },
   "outputs": [],
   "source": [
    "# Remove the warnings about \"unknown side channel data\"\n",
    "from mlagents_envs import logging_util\n",
    "# logging_util.WARNING\n",
    "\n",
    "logging_util.set_log_level(logging_util.ERROR)"
   ]
  },
  {
   "cell_type": "markdown",
   "metadata": {},
   "source": [
    "The **UnityToGymWrapper** enables the straightforward usage of the code and concepts from Gym/Gymnasium."
   ]
  },
  {
   "cell_type": "code",
   "execution_count": null,
   "metadata": {
    "tags": [
     "hide-output"
    ]
   },
   "outputs": [],
   "source": [
    "from mlagents_envs.envs.unity_gym_env import UnityToGymWrapper\n",
    "\n",
    "#gym_env = UnityToGymWrapper(env, uint8_visual, flatten_branched, allow_multiple_obs)\n",
    "env = UnityToGymWrapper(unity_env, uint8_visual=False, flatten_branched=False, allow_multiple_obs=True)"
   ]
  },
  {
   "cell_type": "markdown",
   "metadata": {},
   "source": [
    "## 2. Examine the State and Action Spaces\n",
    "\n",
    "The simulation contains a single agent that navigates a large environment.  At each time step, it has <strike>four discrete</strike> three continuous actions at its disposal, corresponding to the three degrees of freedom. These are then mapped to six discrete actions for this challenge:\n",
    "- `0` - walk right \n",
    "- `1` - walk left\n",
    "- `2` - turn left\n",
    "- `3` - turn right\n",
    "- `4` - walk forward\n",
    "- `5` - walk backward\n",
    "\n",
    "<strike>The state space has `37` dimensions and contains the agent's velocity, along with ray-based perception of objects around agent's forward direction.</strike>  A reward of `+1` is provided for collecting a <strike>yellow banana</strike> green marble, and a reward of `-1` is provided for collecting a <strike>blue banana</strike> red marble.\n",
    "\n",
    "Three sensors are used to train or to monitor the agent's behavior, but only sensor `2` or `0` are used for training and inference.\n",
    "- `2` - [Ray Perception Sensor 3D](https://www.immersivelimit.com/tutorials/rayperceptionsensorcomponent-tutorial) with 6 rays per direction and 3 (temporally) stacked raycasts.\n",
    "- `0` - [Camera Sensor](https://www.youtube.com/watch?v=7FHyqzUBzZ0), (64x64 RGB) mounted on top of the agent, with no frames stacked. In the DeepMind paper, four frames were stacked, enabling the convolutional layers to extract some temporal properties across those frames.\n",
    "- `1` - Grid Sensor for basic monitoring (3x40x40) with the layers 1: good food, 2: walls, 3: bad food.\n",
    "\n",
    "Run the code cell below to print some information about the environment."
   ]
  },
  {
   "cell_type": "code",
   "execution_count": null,
   "metadata": {},
   "outputs": [],
   "source": [
    "# Run this cell for using the Ray Perception Sensor 3D\n",
    "unity_sensor_id = 2"
   ]
  },
  {
   "cell_type": "code",
   "execution_count": null,
   "metadata": {},
   "outputs": [],
   "source": [
    "# Run this cell for using the Camera Sensor\n",
    "unity_sensor_id = 0"
   ]
  },
  {
   "cell_type": "code",
   "execution_count": null,
   "metadata": {
    "tags": [
     "hide-input"
    ]
   },
   "outputs": [],
   "source": [
    "describe_actions_d = {\n",
    "    0: '    walk right -->',\n",
    "    1: '<-- walk left     ',\n",
    "    2: '<-- turn left     ',\n",
    "    3: '    turn right -->',\n",
    "    4: '    walk forward  ',\n",
    "    5: '    walk backward ',\n",
    "}"
   ]
  },
  {
   "cell_type": "code",
   "execution_count": null,
   "metadata": {
    "tags": [
     "hide-input"
    ]
   },
   "outputs": [],
   "source": [
    "env_info = env.reset()\n",
    "\n",
    "action_size = env.action_size\n",
    "print('Number of actions:', action_size)\n",
    "print('Observation space: ', env.observation_space)"
   ]
  },
  {
   "cell_type": "markdown",
   "metadata": {},
   "source": [
    "## 3. Take Random Actions in the Environment\n",
    "\n",
    "In the next code cell, you will learn how to use the Python API to control the agent and receive feedback from the environment.\n",
    "\n",
    "Once this cell is executed, you will watch the agent's performance, if it selects an action (uniformly) at random with each time step.  A window should pop up that allows you to observe the agent, as it moves through the environment.  \n",
    "\n",
    "Of course, as part of the project, you'll have to change the code so that the agent is able to use its experience to gradually choose better actions when interacting with the environment!\n",
    "\n",
    "It is always certainly a good idea to observe behavior and learning progress of the agent. This is achieved by plotting the agent's First Person View (FPV) from the Camera Sensor and the Grid Sensor that provides a bird's eye view of the surrounding area. This is particularly useful when the Unity environment is compiled in headless mode (without display output) when running and training in a cloud environment or for documentation and archiving the Jupyter notebook."
   ]
  },
  {
   "cell_type": "code",
   "execution_count": null,
   "metadata": {},
   "outputs": [],
   "source": [
    "def rand_agent_gen(n=100):\n",
    "    env_info = env.reset()\n",
    "    score = 0\n",
    "    for i in range(n):\n",
    "        action_vec = np.random.rand(action_size)*2 - 1         # select a random action\n",
    "        action = 2\n",
    "        # action_vec = action_d[action] * 0.5\n",
    "        next_obs, rewards, done, info = env.step(action_vec)   # send the action to the environment\n",
    "        score += rewards\n",
    "        yield next_obs, rewards, score, action"
   ]
  },
  {
   "cell_type": "code",
   "execution_count": null,
   "metadata": {},
   "outputs": [],
   "source": [
    "%%time\n",
    "%%capture\n",
    "\n",
    "# The \"Random Agent\" runs for n steps\n",
    "results = list(rand_agent_gen(n=20))\n",
    "\n",
    "frame_data = results[-1]\n",
    "next_obs, rewards, score, action = frame_data\n",
    "print(\"Score: {}\".format(results[-1][2]))"
   ]
  },
  {
   "cell_type": "markdown",
   "metadata": {},
   "source": [
    "A few helper functions are used for the visualization of the Agent's observations and actions\n",
    "- `visualize_output_func` shows a frame the **Camera** and **Grid Sensor**'s output. If the weights of the kernels of the first convolutional layer, `w`, are provided, they will be applied to the frame of the **Camera Sensor**.\n",
    "- `make_agent_clip` creates an animation from an iterable of the Agent's states using `visualize_output_func`."
   ]
  },
  {
   "cell_type": "code",
   "execution_count": null,
   "metadata": {
    "tags": [
     "hide-input",
     "hide-output"
    ]
   },
   "outputs": [],
   "source": [
    "def visualize_output_func(fig, w=None, normalize=True, count=True, nrows_ncols=(4, 4)):\n",
    "    step_count = 0\n",
    "    status_text_art = None\n",
    "    action_text_art = None\n",
    "    def visualize_output(frame_data):\n",
    "        nonlocal step_count\n",
    "        nonlocal status_text_art\n",
    "        nonlocal action_text_art\n",
    "        if count:\n",
    "            step_count = step_count + 1\n",
    "        next_obs, rewards, score, action = frame_data\n",
    "        status_text = 'Step {0:04d}\\n\\nScore {1:03d}'.format(step_count, int(score))\n",
    "        action_text = describe_actions_d[action]\n",
    "        next_cam_obs = next_obs[0]\n",
    "        next_grid_obs = next_obs[1]\n",
    "        if w is not None:\n",
    "            batch_size = w.shape[0]\n",
    "            grid = ImageGrid(fig, 122, nrows_ncols=nrows_ncols, axes_pad = 0.1)\n",
    "            filtered_images_cv = apply_kernels_to_image(next_cam_obs, weigths_conv1)\n",
    "            for i in range(batch_size):\n",
    "                image = filtered_images_cv[i]\n",
    "                image = np.transpose(image, (1, 2, 0))   # transpose to go from torch to numpy image\n",
    "        \n",
    "                if normalize:\n",
    "                    mean = np.array([0.485, 0.456, 0.406])\n",
    "                    std = np.array([0.229, 0.224, 0.225])\n",
    "                    image = std * image + mean\n",
    "                    image = np.clip(image, 0, 1)\n",
    "    \n",
    "                grid[i].clear()\n",
    "                grid[i].imshow(image, cmap='gray')\n",
    "                grid[i].get_xaxis().set_ticks([])\n",
    "                grid[i].get_yaxis().set_ticks([])\n",
    "                plt.axis('off')\n",
    "\n",
    "            grid = Grid(fig, 121, nrows_ncols=(2,2), axes_pad=0.1, share_x=False)\n",
    "            fpv_view_id = 1\n",
    "            grid_view_id = 3\n",
    "            # Remove axis ticks\n",
    "            grid[0].clear()\n",
    "            grid[2].clear()\n",
    "            grid[0].get_xaxis().set_ticks([])\n",
    "            grid[0].get_yaxis().set_ticks([])\n",
    "            grid[0].axis('off')\n",
    "            grid[2].get_xaxis().set_ticks([])\n",
    "            grid[2].get_yaxis().set_ticks([])\n",
    "            grid[2].axis('off')\n",
    "            grid[0].set_xlim((0,40))\n",
    "            grid[2].set_xlim((0,40))\n",
    "            if action_text_art is not None:\n",
    "                action_text_art.remove()\n",
    "            action_text_art = grid[0].text(\n",
    "                20, 20, action_text,\n",
    "                fontsize=10, fontweight='bold', rotation=0, family='monospace', horizontalalignment = 'center')\n",
    "    \n",
    "            if status_text_art is not None:\n",
    "                status_text_art.remove()\n",
    "            status_text_art = grid[2].text(\n",
    "                20, 20,\n",
    "                status_text,\n",
    "                fontsize=14, fontweight='bold', rotation=0, family='monospace', horizontalalignment = 'center')\n",
    "        else:  # Display game only\n",
    "            grid = Grid(fig, 111, nrows_ncols=(1,2), axes_pad=0.15, share_x=False, share_y=False)\n",
    "            fig.suptitle(action_text + '   Step {0:04d}  Score {1:03d}'.format(\n",
    "                step_count, int(score)), fontsize=14, fontweight='bold', family='monospace')\n",
    "            fpv_view_id = 0\n",
    "            grid_view_id = 1\n",
    "            grid.axes_all[0].set_title(action_text)\n",
    "        # Camera sensor FPV\n",
    "        next_cam_pic = next_cam_obs.transpose((1, 2, 0))\n",
    "\n",
    "        grid[fpv_view_id].clear()\n",
    "        grid[fpv_view_id].imshow(next_cam_pic)\n",
    "        plt.axis('off')\n",
    "    \n",
    "        next_grid_pic = next_grid_obs.copy()\n",
    "        grid[grid_view_id].clear()\n",
    "        walls = next_grid_pic[1].copy()\n",
    "        next_grid_pic[1] = next_grid_pic[0]\n",
    "        next_grid_pic[0] = np.zeros((40,40))\n",
    "        next_grid_pic[0] = next_grid_pic[2]\n",
    "        next_grid_pic[2] = np.zeros((40,40))\n",
    "        next_grid_pic[2] = walls\n",
    "        next_grid_pic = next_grid_pic.transpose((1,2,0))\n",
    "        next_grid_pic = np.flipud(next_grid_pic)\n",
    "        next_grid_pic = np.rot90(next_grid_pic)\n",
    "        # indicate the position of the agent at the center\n",
    "        next_grid_pic[20,20,0] = 200\n",
    "        next_grid_pic[20,20,1] = 200\n",
    "        next_grid_pic[20,20,2] = 255\n",
    "        grid[grid_view_id].imshow(next_grid_pic)\n",
    "        grid[fpv_view_id].get_xaxis().set_ticks([])\n",
    "        grid[fpv_view_id].get_yaxis().set_ticks([])\n",
    "        grid[grid_view_id].get_xaxis().set_ticks([])\n",
    "        grid[grid_view_id].get_yaxis().set_ticks([])\n",
    "        plt.axis('off')\n",
    "        #plt.show()\n",
    "\n",
    "    return visualize_output\n",
    "    \n",
    "\n",
    "def apply_kernels_to_image(image, w):\n",
    "    \"\"\"\n",
    "    Apply the kernels w (channels, width, height) to the image using cv2.filter2D for each channel.\n",
    "    \"\"\"\n",
    "    filtered_image = image.copy()  # .data.cpu().clone().numpy() # convert to numpy array from a Tensor\n",
    "    #filtered_image = cv2.cvtColor(filtered_image, cv2.COLOR_BGR2RGB)\n",
    "    n_image_channels, width_image, height_image = filtered_image.shape\n",
    "    n_kernels, n_kernel_channels = w.shape[0], w.shape[1]\n",
    "    assert n_kernel_channels == n_image_channels, \"The number of image channels and kernel channels must match\"\n",
    "    n_channels = n_kernel_channels\n",
    "    # filtered_image = np.transpose(filtered_image, (1, 2, 0))   # transpose to go from torch to numpy image\n",
    "    filtered_images = np.zeros((n_kernels, n_channels, width_image, height_image))\n",
    "    for kernel_num in range(n_kernels):\n",
    "        image_copy = filtered_image.copy()\n",
    "        for channel_num in range(n_channels):  # Apply kernels to each color channel\n",
    "            filtered_images[kernel_num][channel_num] = cv2.filter2D(image_copy[channel_num], -1, w[kernel_num][channel_num]) \n",
    "\n",
    "    return filtered_images\n",
    "    # return torch.FloatTensor(filtered_images)\n",
    "\n",
    "\n",
    "def make_agent_clip(frames, w=None, normalize=True, nrows_ncols=(4, 4)):\n",
    "    fig = plt.figure(figsize=(8,4))\n",
    "    count = 0\n",
    "    visualize = visualize_output_func(fig, w=w, normalize=normalize, nrows_ncols=nrows_ncols)\n",
    "    anim = FuncAnimation(fig, visualize, interval=100, frames=frames, repeat=True)\n",
    "    return anim"
   ]
  },
  {
   "cell_type": "code",
   "execution_count": null,
   "metadata": {
    "tags": [
     "hide-input",
     "hide-output"
    ]
   },
   "outputs": [],
   "source": [
    "%%time\n",
    "%%capture\n",
    "# Create a video clip to observe the agent.\n",
    "game_clip1 = make_agent_clip(results).to_html5_video()\n",
    "HTML(game_clip1)"
   ]
  },
  {
   "cell_type": "markdown",
   "metadata": {},
   "source": [
    "When finished, you can close the environment."
   ]
  },
  {
   "cell_type": "code",
   "execution_count": null,
   "metadata": {},
   "outputs": [],
   "source": [
    "env.close()"
   ]
  },
  {
   "cell_type": "markdown",
   "metadata": {},
   "source": [
    "## 4. Train the Agent!"
   ]
  },
  {
   "cell_type": "markdown",
   "metadata": {},
   "source": [
    "The [example solution of the LunarLander Gym environment](https://github.com/udacity/deep-reinforcement-learning/blob/561eec3ae8678a23a4557f1a15414a9b076fdfff/dqn/solution/Deep_Q_Network_Solution.ipynb) is adapted for solving the Banana Collector. The Agent is first trained using the ***Ray Perception Sensor*** and then using the ***Camera Sensor*** only.\n",
    "\n",
    "- For the ***Ray Perception Sensor***, the QNetwork with three fully connected linear layers and ReLu activation functions was adapted to the dimension of the observation and the action space.\n",
    "- For using the ***Camera Sensor***, CNN's, are added beforehand the fully connected \"descision layer\", inspired by [this solution](https://github.com/tjwhitaker/human-level-control-through-deep-reinforcement-learning/blob/241901bd8baa7dc18b596795ebcef9e21adcd4eb/src/model.py) that was based on the DeepMind paper. The camera sensor has a view angle of 85 deg and a resolution of 64x64 RGB. Two architectures that are work with a smaller resolution of 40x40 are left here for reference."
   ]
  },
  {
   "cell_type": "code",
   "execution_count": null,
   "metadata": {},
   "outputs": [],
   "source": [
    "# model.py\n",
    "import torch\n",
    "import torch.nn as nn\n",
    "import torch.nn.functional as F\n",
    "\n",
    "class QNetwork_FC1(nn.Module):\n",
    "    \"\"\"Actor (Policy) Model.\"\"\"\n",
    "\n",
    "    def __init__(self, state_size, action_size, seed, fc1_units=300, fc2_units=200):  # 64, 64\n",
    "        \"\"\"Initialize parameters and build model.\n",
    "        Params\n",
    "        ======\n",
    "            state_size (int): Dimension of each state\n",
    "            action_size (int): Dimension of each action\n",
    "            seed (int): Random seed\n",
    "            fc1_units (int): Number of nodes in first hidden layer\n",
    "            fc2_units (int): Number of nodes in second hidden layer\n",
    "        \"\"\"\n",
    "        super(QNetwork, self).__init__()\n",
    "        self.seed = torch.manual_seed(seed)\n",
    "        self.fc1 = nn.Linear(state_size, fc1_units)\n",
    "        self.fc2 = nn.Linear(fc1_units, fc2_units)\n",
    "        self.fc3 = nn.Linear(fc2_units, action_size)\n",
    "\n",
    "    def forward(self, state):\n",
    "        \"\"\"Build a network that maps state -> action values.\"\"\"\n",
    "        x = F.relu(self.fc1(state))\n",
    "        x = F.relu(self.fc2(x))\n",
    "        return self.fc3(x)"
   ]
  },
  {
   "cell_type": "code",
   "execution_count": null,
   "metadata": {
    "tags": [
     "hide-input",
     "hide-output"
    ]
   },
   "outputs": [],
   "source": [
    "class QConvNetwork40(nn.Module):\n",
    "    # Camera, Field of view: 70, Resolution 40x40\n",
    "    # This works good and is left for reference or later usage.\n",
    "    def __init__(self, state_size, action_size, seed, fc1_units=128, fc2_units=128):\n",
    "        super(QConvNetwork40, self).__init__()\n",
    "        \n",
    "        # 3 input (image) channels (RGB) or (good, walls, bad), 16 output channels/feature maps, 9x9 square convolution kernel\n",
    "        ## output size = (W-F)/S +1 = (40-9)/1 +1 = 32\n",
    "        # the output Tensor for one image, will have the dimensions: (16, 8, 8)\n",
    "        self.conv1 = nn.Conv2d(3, 16, 9)\n",
    "\n",
    "        # maxpool layer\n",
    "        # pool with kernel_size=4, stride=4\n",
    "        self.pool1 = nn.MaxPool2d(4, 4)\n",
    "\n",
    "        # second conv layer: 16 inputs, 32 outputs, 5x5 conv\n",
    "        ## output size = (W-F)/S +1 = (8-5)/1 +1 = 4\n",
    "        # the output tensor will have dimensions: (32, 4, 4)\n",
    "        # after another pool layer this becomes (32, 2, 2)\n",
    "        self.conv2 = nn.Conv2d(16, 32, 5)\n",
    "\n",
    "        # maxpool layer\n",
    "        # pool with kernel_size=2, stride=2\n",
    "        self.pool2 = nn.MaxPool2d(2, 2)\n",
    "\n",
    "        self.fc1 = nn.Linear(32*2*2, fc1_units)\n",
    "        self.fc2 = nn.Linear(fc1_units, fc2_units)\n",
    "        self.fc3 = nn.Linear(fc2_units, action_size)\n",
    "\n",
    "    def forward(self, x):\n",
    "        # two conv/relu + pool layers\n",
    "        x = self.pool1(F.relu(self.conv1(x)))\n",
    "        x = self.pool2(F.relu(self.conv2(x)))\n",
    "        # x = self.pool(F.elu(self.conv3(x)))\n",
    "\n",
    "        # three linear layers with dropout in between\n",
    "        #print(x.shape)\n",
    "        x = x.view(x.size(0), -1)\n",
    "        x = F.relu(self.fc1(x))\n",
    "        #x = self.fc1_drop(x)\n",
    "        x = F.relu(self.fc2(x))\n",
    "        x = self.fc3(x)\n",
    "        # a modified x, having gone through all the layers of your model, should be returned\n",
    "        return x\n",
    "        ## Note that among the layers to add, consider including:\n",
    "        # maxpooling layers, multiple conv layers, fully-connected layers, and other layers (such as dropout or batch normalization) to avoid overfitting\n",
    "\n",
    "\n",
    "# https://github.com/tjwhitaker/human-level-control-through-deep-reinforcement-learning/blob/master/src/model.py\n",
    "class DQN40_HLC_paper(nn.Module):\n",
    "\tdef __init__(self, state_size, action_size, seed, fc1_units=128, fc2_units=128):\n",
    "\t\tsuper(DQN40_HLC_paper, self).__init__()\n",
    "        ## output size = (W-F)/S +1 = (40-5)/1 +1 = 36\n",
    "        # the output Tensor for one image, will have the dimensions: (16, 16, 16)\n",
    "\t\tself.conv1 = nn.Conv2d(3, 16, kernel_size=3, stride=2)  # kernel_size=5\n",
    "\t\tself.bn1 = nn.BatchNorm2d(16)\n",
    "        ## output size = (W-F)/S +1 = (16-5)/1 +1 = 12\n",
    "        # the output Tensor for one image, will have the dimensions: (32, 6, 6)\n",
    "\t\tself.conv2 = nn.Conv2d(16, 32, kernel_size=3, stride=2)\n",
    "\t\tself.bn2 = nn.BatchNorm2d(32)\n",
    "        ## output size = (W-F)/S +1 = (6-5)/1 +1 = 2\n",
    "        # the output Tensor for one image, will have the dimensions: (32, 2, 2)\n",
    "\t\tself.conv3 = nn.Conv2d(32, 32, kernel_size=3, stride=2)\n",
    "\t\tself.bn3 = nn.BatchNorm2d(32)\n",
    "\t\tself.head = nn.Linear(512, action_size)\n",
    "\n",
    "\tdef forward(self, x):\n",
    "\t\tx = F.relu(self.bn1(self.conv1(x)))\n",
    "\t\tx = F.relu(self.bn2(self.conv2(x)))\n",
    "\t\tx = F.relu(self.bn3(self.conv3(x)))\n",
    "\t\treturn self.head(x.view(x.size(0), -1))\n",
    "\n",
    "\n",
    "class DQN64_HLC_paper(nn.Module):\n",
    "\tdef __init__(self, state_size, action_size, seed, fc1_units=128, fc2_units=128):\n",
    "\t\tsuper(DQN64_HLC_paper, self).__init__()\n",
    "\t\tself.conv1 = nn.Conv2d(3, 16, kernel_size=7, stride=2)  # kernel_size=5\n",
    "\t\tself.bn1 = nn.BatchNorm2d(16)\n",
    "\t\tself.conv2 = nn.Conv2d(16, 32, kernel_size=7, stride=2)\n",
    "\t\tself.bn2 = nn.BatchNorm2d(32)\n",
    "\t\tself.conv3 = nn.Conv2d(32, 32, kernel_size=7, stride=2)\n",
    "\t\tself.bn3 = nn.BatchNorm2d(32)\n",
    "\t\tself.head = nn.Linear(288, action_size)\n",
    "\n",
    "\tdef forward(self, x):\n",
    "\t\tx = F.relu(self.bn1(self.conv1(x)))\n",
    "\t\tx = F.relu(self.bn2(self.conv2(x)))\n",
    "\t\tx = F.relu(self.bn3(self.conv3(x)))\n",
    "\t\treturn self.head(x.view(x.size(0), -1))"
   ]
  },
  {
   "cell_type": "code",
   "execution_count": null,
   "metadata": {},
   "outputs": [],
   "source": [
    "class DQN64_HLC_paper_Mod1(nn.Module):\n",
    "    def __init__(self, state_size, action_size, seed, fc1_units=144):\n",
    "        super(DQN64_HLC_paper_Mod1, self).__init__()\n",
    "        self.conv1 = nn.Conv2d(3, 16, kernel_size=7, stride=2)\n",
    "        self.bn1 = nn.BatchNorm2d(16)\n",
    "        self.conv2 = nn.Conv2d(16, 32, kernel_size=7, stride=2)\n",
    "        self.bn2 = nn.BatchNorm2d(32)\n",
    "        self.conv3 = nn.Conv2d(32, 32, kernel_size=7, stride=2)\n",
    "        self.bn3 = nn.BatchNorm2d(32)\n",
    "        self.fc1 = nn.Linear(288, fc1_units)\n",
    "        self.fc2 = nn.Linear(fc1_units, action_size)\n",
    "\n",
    "    def forward(self, x):\n",
    "        x = F.relu(self.bn1(self.conv1(x)))\n",
    "        x = F.relu(self.bn2(self.conv2(x)))\n",
    "        x = F.relu(self.bn3(self.conv3(x)))\n",
    "        x = x.view(x.size(0), -1)\n",
    "        x = F.relu(self.fc1(x))\n",
    "        x = self.fc2(x)\n",
    "        return x"
   ]
  },
  {
   "cell_type": "markdown",
   "metadata": {},
   "source": [
    "The Deep Q-Learning algorithm currently consist of a\n",
    "- continuous observation space and a\n",
    "- discrete action space\n",
    "\n",
    "and currently implements\n",
    "- Experience Replay in the `class ReplayBuffer`\n",
    "- Fixed Q-Targets in the method `learn` of `class Agent`\n",
    "\n",
    "as described in the paper \"[Human-level control through deep reinforcement learning](https://storage.googleapis.com/deepmind-media/dqn/DQNNaturePaper.pdf)\" from Google DeepMind."
   ]
  },
  {
   "cell_type": "code",
   "execution_count": null,
   "metadata": {
    "tags": [
     "hide-input",
     "hide-output"
    ]
   },
   "outputs": [],
   "source": [
    "# dqn_agent.py\n",
    "import numpy as np\n",
    "import random\n",
    "from collections import namedtuple, deque\n",
    "\n",
    "#from model import QNetwork\n",
    "\n",
    "import torch\n",
    "import torch.nn.functional as F\n",
    "import torch.optim as optim\n",
    "\n",
    "BUFFER_SIZE = int(1e5)  # replay buffer size\n",
    "BATCH_SIZE = 64         # minibatch size\n",
    "GAMMA = 0.99            # discount factor\n",
    "TAU = 1e-3              # for soft update of target parameters\n",
    "LR = 5e-4               # learning rate \n",
    "UPDATE_EVERY = 8        # how often to update the network\n",
    "\n",
    "device = torch.device(\"cuda:0\" if torch.cuda.is_available() else \"cpu\")\n",
    "\n",
    "\n",
    "action_d = {\n",
    "    0: np.array([0, 1,0], dtype='float'),  # walk forward\n",
    "    1: np.array([0,-1,0], dtype='float'),  # walk backward\n",
    "    2: np.array([0,0, 1], dtype='float'),  # turn right\n",
    "    3: np.array([0,0,-1], dtype='float'),  # turn left\n",
    "    4: np.array([ 1,0,0], dtype='float'),  # walk right\n",
    "    5: np.array([-1,0,0], dtype='float'),  # walk left\n",
    "}\n",
    "\n",
    "\n",
    "class Agent():\n",
    "    \"\"\"Interacts with and learns from the environment.\"\"\"\n",
    "\n",
    "    def __init__(self, state_size, action_size, seed):\n",
    "        \"\"\"Initialize an Agent object.\n",
    "        \n",
    "        Params\n",
    "        ======\n",
    "            state_size (int): dimension of each state\n",
    "            action_size (int): dimension of each action\n",
    "            seed (int): random seed\n",
    "        \"\"\"\n",
    "        self.state_size = state_size\n",
    "        self.action_size = action_size\n",
    "        self.seed = random.seed(seed)\n",
    "\n",
    "        # Q-Network\n",
    "        self.qnetwork_local = QNetwork(state_size, action_size, seed).to(device)\n",
    "        self.qnetwork_target = QNetwork(state_size, action_size, seed).to(device)\n",
    "        self.optimizer = optim.Adam(self.qnetwork_local.parameters(), lr=LR)\n",
    "\n",
    "        # Replay memory\n",
    "        self.memory = ReplayBuffer(action_size, BUFFER_SIZE, BATCH_SIZE, seed)\n",
    "        # Initialize time step (for updating every UPDATE_EVERY steps)\n",
    "        self.t_step = 0\n",
    "    \n",
    "    def step(self, state, action, reward, next_state, done):\n",
    "        # Save experience in replay memory\n",
    "        self.memory.add(state, action, reward, next_state, done)\n",
    "        \n",
    "        # Learn every UPDATE_EVERY time steps.\n",
    "        self.t_step = (self.t_step + 1) % UPDATE_EVERY\n",
    "        if self.t_step == 0:\n",
    "            # If enough samples are available in memory, get random subset and learn\n",
    "            if len(self.memory) > BATCH_SIZE:\n",
    "                experiences = self.memory.sample()\n",
    "                self.learn(experiences, GAMMA)\n",
    "\n",
    "    def act(self, state, eps=0.):\n",
    "        \"\"\"Returns actions for given state as per current policy.\n",
    "        \n",
    "        Params\n",
    "        ======\n",
    "            state (array_like): current state\n",
    "            eps (float): epsilon, for epsilon-greedy action selection\n",
    "        \"\"\"\n",
    "        state = torch.from_numpy(state).float().unsqueeze(0).to(device)\n",
    "        self.qnetwork_local.eval()\n",
    "        with torch.no_grad():\n",
    "            action_values = self.qnetwork_local(state)\n",
    "        self.qnetwork_local.train()\n",
    "\n",
    "        # Epsilon-greedy action selection\n",
    "        if random.random() > eps:\n",
    "            return np.argmax(action_values.cpu().data.numpy())\n",
    "        else:\n",
    "            return random.randint(0, self.action_size-1)\n",
    "            # return random.choice(np.arange(self.action_size))\n",
    "\n",
    "    def learn(self, experiences, gamma):\n",
    "        \"\"\"Update value parameters using given batch of experience tuples.\n",
    "\n",
    "        Params\n",
    "        ======\n",
    "            experiences (Tuple[torch.Tensor]): tuple of (s, a, r, s', done) tuples \n",
    "            gamma (float): discount factor\n",
    "        \"\"\"\n",
    "        states, actions, rewards, next_states, dones = experiences\n",
    "\n",
    "        # Get max predicted Q values (for next states) from target model\n",
    "        Q_targets_next = self.qnetwork_target(next_states).detach().max(1)[0].unsqueeze(1)\n",
    "        # Compute Q targets for current states \n",
    "        Q_targets = rewards + (gamma * Q_targets_next * (1 - dones))\n",
    "\n",
    "        # Get expected Q values from local model\n",
    "        Q_expected = self.qnetwork_local(states).gather(1, actions)\n",
    "\n",
    "        # Compute loss\n",
    "        loss = F.mse_loss(Q_expected, Q_targets)\n",
    "        # Minimize the loss\n",
    "        self.optimizer.zero_grad()\n",
    "        loss.backward()\n",
    "        self.optimizer.step()\n",
    "\n",
    "        # ------------------- update target network ------------------- #\n",
    "        self.soft_update(self.qnetwork_local, self.qnetwork_target, TAU)                     \n",
    "\n",
    "    def soft_update(self, local_model, target_model, tau):\n",
    "        \"\"\"Soft update model parameters.\n",
    "        θ_target = τ*θ_local + (1 - τ)*θ_target\n",
    "\n",
    "        Params\n",
    "        ======\n",
    "            local_model (PyTorch model): weights will be copied from\n",
    "            target_model (PyTorch model): weights will be copied to\n",
    "            tau (float): interpolation parameter \n",
    "        \"\"\"\n",
    "        for target_param, local_param in zip(target_model.parameters(), local_model.parameters()):\n",
    "            target_param.data.copy_(tau*local_param.data + (1.0-tau)*target_param.data)\n",
    "\n",
    "\n",
    "# states_ReplayBuffer = None\n",
    "class ReplayBuffer:\n",
    "    \"\"\"Fixed-size buffer to store experience tuples.\"\"\"\n",
    "\n",
    "    def __init__(self, action_size, buffer_size, batch_size, seed):\n",
    "        \"\"\"Initialize a ReplayBuffer object.\n",
    "\n",
    "        Params\n",
    "        ======\n",
    "            action_size (int): dimension of each action\n",
    "            buffer_size (int): maximum size of buffer\n",
    "            batch_size (int): size of each training batch\n",
    "            seed (int): random seed\n",
    "        \"\"\"\n",
    "        self.action_size = action_size\n",
    "        self.memory = deque(maxlen=buffer_size)  \n",
    "        self.batch_size = batch_size\n",
    "        self.experience = namedtuple(\"Experience\", field_names=[\"state\", \"action\", \"reward\", \"next_state\", \"done\"])\n",
    "        self.seed = random.seed(seed)\n",
    "    \n",
    "    def add(self, state, action, reward, next_state, done):\n",
    "        \"\"\"Add a new experience to memory.\"\"\"\n",
    "        e = self.experience(state, action, reward, next_state, done)\n",
    "        self.memory.append(e)\n",
    "    \n",
    "    def sample(self):\n",
    "        \"\"\"Randomly sample a batch of experiences from memory.\"\"\"\n",
    "        experiences = random.sample(self.memory, k=self.batch_size)\n",
    "\n",
    "        # global states_ReplayBuffer\n",
    "        # states_ReplayBuffer = [e.state for e in experiences if e is not None]\n",
    "        states = torch.from_numpy(np.stack([e.state for e in experiences if e is not None])).float().to(device)  # stack was vstack\n",
    "        actions = torch.from_numpy(np.vstack([e.action for e in experiences if e is not None])).long().to(device)\n",
    "        rewards = torch.from_numpy(np.vstack([e.reward for e in experiences if e is not None])).float().to(device)\n",
    "        next_states = torch.from_numpy(np.stack([e.next_state for e in experiences if e is not None])).float().to(device)\n",
    "        dones = torch.from_numpy(np.vstack([e.done for e in experiences if e is not None]).astype(np.uint8)).float().to(device)\n",
    "  \n",
    "        return (states, actions, rewards, next_states, dones)\n",
    "\n",
    "    def __len__(self):\n",
    "        \"\"\"Return the current size of internal memory.\"\"\"\n",
    "        return len(self.memory)"
   ]
  },
  {
   "cell_type": "markdown",
   "metadata": {},
   "source": [
    "The model network architecture is currently selected depending on the desired Sensor only. This could be improved for a more exhaustive study."
   ]
  },
  {
   "cell_type": "code",
   "execution_count": null,
   "metadata": {
    "tags": [
     "hide-input",
     "hide-output"
    ]
   },
   "outputs": [],
   "source": [
    "# Run this cell to setup the agent for the Ray Perception Sensor\n",
    "if unity_sensor_id == 2:  # Ray Perception Sensor\n",
    "    QNetwork = QNetwork_FC1\n",
    "    agent = Agent(state_size=207, action_size=6, seed=42)\n",
    "elif unity_sensor_id == 0:  # Camera Sensor\n",
    "    # QNetwork = QConvNetwork40\n",
    "    # QNetwork = QConvNetwork64\n",
    "    # QNetwork = DQN40_HLC_paper\n",
    "    # QNetwork = DQN64_HLC_paper  # The agent gets stuck frequently or oszillates.\n",
    "    QNetwork = DQN64_HLC_paper_Mod1  # Best looking behavior\n",
    "    agent = Agent(state_size=0, action_size=6, seed=42)\n",
    "else:\n",
    "    raise ValueError(\"unity_sensor_id must be 0 or 2.\")"
   ]
  },
  {
   "cell_type": "markdown",
   "metadata": {},
   "source": [
    "The generator `agent_gen` returns at each inference or learning step of an episode until `n` steps are reached or the episode is done."
   ]
  },
  {
   "cell_type": "code",
   "execution_count": null,
   "metadata": {
    "tags": [
     "hide-input",
     "hide-output"
    ]
   },
   "outputs": [],
   "source": [
    "# from dqn_agent import Agent\n",
    "\n",
    "def agent_gen(learn=False, n=100, eps=0., sensor_id=0):\n",
    "    \"\"\"\n",
    "    Generator to execute a learning and/or decision step for n steps.\n",
    "    \"\"\"\n",
    "    obs = env.reset()\n",
    "    score = 0\n",
    "    for i in range(n):\n",
    "        action = agent.act(obs[sensor_id], eps)\n",
    "        next_obs, rewards, done, info = env.step(action_d[action])   # send the action to the environment\n",
    "        if learn:\n",
    "            agent.step(obs[sensor_id], action, rewards, next_obs[sensor_id], done)\n",
    "        obs = next_obs\n",
    "        score += rewards\n",
    "        if done:\n",
    "            break\n",
    "        yield next_obs, rewards, score, action"
   ]
  },
  {
   "cell_type": "markdown",
   "metadata": {},
   "source": [
    "Testing the untrained agent through the generator `agent_gen` for a few steps will fail quickly, in case the model architecture or the interfaces to the DQN algorithm are inconsistent."
   ]
  },
  {
   "cell_type": "code",
   "execution_count": null,
   "metadata": {
    "tags": [
     "hide-input",
     "hide-output"
    ]
   },
   "outputs": [],
   "source": [
    "%%time\n",
    "#%%capture\n",
    "# The \"Untrained Agent\" runs for n steps. Can be used to check to network/model architecture.\n",
    "results_untrained = list(agent_gen(n=30, sensor_id=unity_sensor_id))"
   ]
  },
  {
   "cell_type": "code",
   "execution_count": null,
   "metadata": {
    "tags": [
     "remove-cell"
    ]
   },
   "outputs": [],
   "source": [
    "%%capture\n",
    "game_clip2 = make_agent_clip(frames=results_untrained).to_html5_video()"
   ]
  },
  {
   "cell_type": "code",
   "execution_count": null,
   "metadata": {
    "tags": [
     "remove-cell"
    ]
   },
   "outputs": [],
   "source": [
    "# [x 0 0]: move 1:right, -1:left\n",
    "# [0 x 0]: move 1:forward, -1:backward\n",
    "# [0 0 x]: turn 1:right, -1:left\n",
    "HTML(game_clip2)"
   ]
  },
  {
   "cell_type": "markdown",
   "metadata": {},
   "source": [
    "Furthermore, some helper functions are needed for saving and loading trained models and some statistics for performance assessment."
   ]
  },
  {
   "cell_type": "code",
   "execution_count": null,
   "metadata": {
    "tags": [
     "hide-input",
     "hide-output"
    ]
   },
   "outputs": [],
   "source": [
    "import pickle\n",
    "\n",
    "def save_trained_nn(nn, scores=None, episode=None, results=None, export_onnx=True, dummy_input=None):\n",
    "    \"\"\"Save a trained network. The filename corresponds to the class name\"\"\"\n",
    "    name = nn.__class__.__name__\n",
    "    if episode is None:\n",
    "        saved_models_path = 'saved_models'\n",
    "        episode_suffix = ''\n",
    "    else:\n",
    "        saved_models_path = 'temporary_checkpoints'\n",
    "        episode_suffix = '__' + str(episode)\n",
    "    torch.save(nn.state_dict(), os.path.join(saved_models_path, name+episode_suffix+'.pth'))\n",
    "    if scores is not None:\n",
    "        np.save(os.path.join(\n",
    "            saved_models_path, name+episode_suffix+'.scores.npy'), np.array(scores), allow_pickle=False, fix_imports=True)\n",
    "    if results is not None:\n",
    "        with open(os.path.join(saved_models_path, name+episode_suffix+'.results.pickle.dump'), 'wb') as pickle_dump_file:\n",
    "            pickle.dump(results, pickle_dump_file)\n",
    "    if export_onnx:\n",
    "        dummy_input_on_device = torch.from_numpy(dummy_input).float().unsqueeze(0).to(device)\n",
    "        torch.onnx.export(\n",
    "                nn,\n",
    "                dummy_input_on_device,       # model input (or a tuple for multiple inputs)\n",
    "                os.path.join(saved_models_path, name+episode_suffix+'.onnx'),\n",
    "                export_params=True,          # store the trained parameter weights inside the model file\n",
    "                opset_version=10,            # the ONNX version to export the model to\n",
    "                do_constant_folding=True,    # whether to execute constant folding for optimization\n",
    "                input_names=['vector_observation'],  # the model's input name\n",
    "                output_names=['continuous_actions'],   # the model's output names\n",
    "                dynamic_axes={'vector_observation': {0: 'batch_size'},  # dynamic axis for the input tensor\n",
    "                              'continuous_actions': {0: 'batch_size'}}\n",
    "            )\n",
    "\n",
    "\n",
    "def load_trained_nn(nn):\n",
    "    name = nn.__class__.__name__\n",
    "    nn.load_state_dict(torch.load(os.path.join('saved_models', name+'.pth')))\n",
    "    nn.eval()\n",
    "\n",
    "\n",
    "def load_dump(nn):\n",
    "    name = nn.__class__.__name__\n",
    "    with open(os.path.join('saved_models', name+'.results.pickle.dump'), 'rb') as pickle_file:\n",
    "        content = pickle.load(pickle_file)\n",
    "    return content\n",
    "\n",
    "\n",
    "# results = load_dump(agent.qnetwork_local)"
   ]
  },
  {
   "cell_type": "markdown",
   "metadata": {},
   "source": [
    "Now, everything is prepared to start the training. This will take a while, because the `time_scale` of the Unity environment cannot be increased to very high numbers. A time scale of 20 worked fine for the training when using the compiled a headless environment. A smaller time scale of ~5 is a good choice for observing the agent while training."
   ]
  },
  {
   "cell_type": "code",
   "execution_count": null,
   "metadata": {
    "tags": [
     "hide-input",
     "hide-output"
    ]
   },
   "outputs": [],
   "source": [
    "%%time\n",
    "\n",
    "results = list()\n",
    "\n",
    "def dqn(sensor_id=2, n_episodes=2000, max_t=1500, eps_start=1.0, eps_end=0.01, eps_decay=0.995, print_every=100, save_every=None):\n",
    "    \"\"\"Deep Q-Learning.\n",
    "    \n",
    "    Params\n",
    "    ======\n",
    "        n_episodes (int): maximum number of training episodes\n",
    "        max_t (int): maximum number of timesteps per episode\n",
    "        eps_start (float): starting value of epsilon, for epsilon-greedy action selection\n",
    "        eps_end (float): minimum value of epsilon\n",
    "        eps_decay (float): multiplicative factor (per episode) for decreasing epsilon\n",
    "    \"\"\"\n",
    "    global results\n",
    "    scores = []                        # list containing scores from each episode\n",
    "    scores_window = deque(maxlen=print_every)  # last \"print_every\" scores\n",
    "    eps = eps_start                    # initialize epsilon\n",
    "    for i_episode in range(1, n_episodes+1):\n",
    "        results = list(agent_gen(learn=True, n=max_t, eps=eps, sensor_id=sensor_id))\n",
    "        score = results[-1][2]\n",
    "        scores_window.append(score)       # save most recent score\n",
    "        scores.append(score)              # save most recent score\n",
    "        eps = max(eps_end, eps_decay*eps) # decrease epsilon\n",
    "        print('\\rEpisode {}\\tAverage Score: {:.2f}'.format(i_episode, np.mean(scores_window)), end=\"\")\n",
    "        if i_episode % print_every == 0:\n",
    "            print('\\rEpisode {}\\tAverage Score: {:.2f}'.format(i_episode, np.mean(scores_window)))\n",
    "        if save_every is not None:\n",
    "            if i_episode % save_every == 0:\n",
    "                save_trained_nn(agent.qnetwork_local, scores=scores, episode=i_episode, export_onnx=False)\n",
    "        if np.mean(scores_window)>=100.0:\n",
    "            print('\\nEnvironment solved in {:d} episodes!\\tAverage Score: {:.2f}'.format(i_episode-print_every, np.mean(scores_window)))\n",
    "            torch.save(agent.qnetwork_local.state_dict(), 'checkpoint.pth')\n",
    "            break\n",
    "    return scores\n",
    "\n",
    "# sensor_id 0: Camera Sensor, 1: Grid Sensor, 2: Ray Perception Sensor 3D\n",
    "if unity_sensor_id == 2:\n",
    "    scores = dqn(n_episodes=2000, sensor_id=unity_sensor_id, save_every=10)\n",
    "if unity_sensor_id == 0:\n",
    "    BUFFER_SIZE = int(2e5)  # replay buffer size\n",
    "    BATCH_SIZE = 128        # minibatch size\n",
    "    GAMMA = 0.995           # discount factor\n",
    "    TAU = 1.25e-3           # for soft update of target parameters\n",
    "    LR = 8e-4               # learning rate: 8e-4 worked\n",
    "    UPDATE_EVERY = 10       # how often to update the network\n",
    "    scores = dqn(n_episodes=2000, sensor_id=unity_sensor_id, save_every=10,  eps_decay=0.9973)\n",
    "\n",
    "trained = True\n",
    "# plot the scores\n",
    "fig = plt.figure()\n",
    "ax = fig.add_subplot(111)\n",
    "plt.plot(np.arange(len(scores)), scores)\n",
    "plt.ylabel('Score')\n",
    "plt.xlabel('Episode #')\n",
    "plt.show()"
   ]
  },
  {
   "cell_type": "code",
   "execution_count": null,
   "metadata": {
    "tags": [
     "hide-cell"
    ]
   },
   "outputs": [],
   "source": [
    "# Try continuing the training...\n",
    "# more_scores = dqn(n_episodes=5, eps_start=0.02, sensor_id=unity_sensor_id, eps_decay=0.997)"
   ]
  },
  {
   "cell_type": "code",
   "execution_count": null,
   "metadata": {
    "tags": [
     "remove-cell"
    ]
   },
   "outputs": [],
   "source": [
    "%%capture\n",
    "game_clip_training = make_game_clip(frames=results[0:200], scale_adjustment=1.25).to_html5_video()"
   ]
  },
  {
   "cell_type": "code",
   "execution_count": null,
   "metadata": {
    "tags": [
     "remove-cell"
    ]
   },
   "outputs": [],
   "source": [
    "HTML(game_clip_training)"
   ]
  },
  {
   "cell_type": "markdown",
   "metadata": {},
   "source": [
    "Finally save the trained model parameters or load the parameters of a previously trained model for further analysis or application."
   ]
  },
  {
   "cell_type": "code",
   "execution_count": null,
   "metadata": {
    "tags": [
     "hide-input",
     "hide-output"
    ]
   },
   "outputs": [],
   "source": [
    "# Save model. WARNING: An existing model will be overwritten\n",
    "if trained:\n",
    "    save_trained_nn(agent.qnetwork_local, scores=scores, results=results, dummy_input=results[0][0][unity_sensor_id])\n",
    "else:\n",
    "    print(\"Didn't save, because the model was not trained yet.\")"
   ]
  },
  {
   "cell_type": "code",
   "execution_count": null,
   "metadata": {
    "tags": [
     "hide-input",
     "hide-output"
    ]
   },
   "outputs": [],
   "source": [
    "# Load trained model\n",
    "if not trained:\n",
    "    load_trained_nn(agent.qnetwork_local)"
   ]
  },
  {
   "cell_type": "markdown",
   "metadata": {},
   "source": [
    "## 5. Results\n",
    "\n",
    "The achieved score after passing x episodes of training for each model is shown in the following picture.\n",
    "\n",
    "It's not a surprise that the **best score** is achieved when using the ***Ray Perception Sensor*** with the simple **QNetwork_FC1**. The Agent learns fast and is definitely demonstrating a \"better than human\" performance.\n",
    "\n",
    "When using the ***Camera Sensor*** with a low resolution of 40x40 RGB, the training just works with `QConvNetwork40` and `DQN40_HLC_paper` with a moderate performance given the fact that the image resolution is really poor.\n",
    "\n",
    "When using the ***Camera Sensor*** with an increased resolution of 64x64 RGB, `DQN64_HLC_paper_Mod1` reaches a better score too. Interestingly there is no learning progress when applying the previously working hyperparameters. So LR (learning rate), GAMMA (discount factor), BUFFER_SIZE and BATCH_SIZE are all increased, to learn faster, longer and from more collected experience."
   ]
  },
  {
   "cell_type": "code",
   "execution_count": null,
   "metadata": {
    "tags": [
     "hide-input"
    ]
   },
   "outputs": [],
   "source": [
    "import scipy.signal\n",
    "\n",
    "\n",
    "def lowpass(data: np.ndarray, cutoff: float, sample_rate: float, poles: int = 5):\n",
    "    sos = scipy.signal.butter(poles, cutoff, 'lowpass', fs=sample_rate, output='sos')\n",
    "    filtered_data = scipy.signal.sosfiltfilt(sos, data)\n",
    "    return filtered_data\n",
    "\n",
    "\n",
    "def load_scores(path):\n",
    "    scores_d = {}\n",
    "    for filename in os.listdir(path):\n",
    "        if filename.endswith('.scores.npy'):\n",
    "            model_name = filename.split('.scores.npy')[0]\n",
    "            scores_d[model_name] = np.load(os.path.join(path, filename))\n",
    "    return scores_d\n",
    "\n",
    "\n",
    "# Load the scores\n",
    "scores_d = load_scores('saved_models')\n",
    "\n",
    "\n",
    "fig = plt.figure()\n",
    "ax = fig.add_subplot(111)\n",
    "\n",
    "sample_rate = 1.0\n",
    "times = np.arange(len(scores))/sample_rate\n",
    "line_list = []\n",
    "\n",
    "for k in scores_d.keys():\n",
    "    scores = scores_d[k]\n",
    "    ax.plot(np.arange(len(scores)), scores, alpha=0.25)\n",
    "    line_list.append((k, ax.get_lines()[-1].get_color()))\n",
    "\n",
    "for k, c in line_list:\n",
    "    scores = scores_d[k]\n",
    "    filtered = lowpass(scores, 0.004, sample_rate)\n",
    "    ax.plot(np.arange(len(filtered)), filtered, color=c, label=k)\n",
    "\n",
    "ax.set_xlabel(\"Episode\")\n",
    "ax.set_ylabel(\"Score\")\n",
    "ax.legend()\n",
    "ax.grid()"
   ]
  },
  {
   "cell_type": "markdown",
   "metadata": {},
   "source": [
    "Results from more model architectures and more enhanced Deep-Q Learning algorithms might be added here :-)"
   ]
  },
  {
   "cell_type": "markdown",
   "metadata": {},
   "source": [
    "## 6. Watching the Agent\n",
    "Simply watching the Agent to play provides a good impression whether the learnt policy is good or bad."
   ]
  },
  {
   "cell_type": "code",
   "execution_count": null,
   "metadata": {
    "tags": [
     "hide-input",
     "hide-output"
    ]
   },
   "outputs": [],
   "source": [
    "%%time\n",
    "#%%capture\n",
    "# The \"trained Agent\" runs for n steps\n",
    "results_trained = list(agent_gen(n=100, sensor_id=unity_sensor_id))"
   ]
  },
  {
   "cell_type": "markdown",
   "metadata": {},
   "source": [
    "### 6.1 Using the Ray Perception Sensor\n",
    "The trained Agent using the ***Ray Perception Sensor 3D*** show a very smooth looking and successful behavior."
   ]
  },
  {
   "cell_type": "code",
   "execution_count": null,
   "metadata": {
    "tags": [
     "hide-input",
     "hide-output"
    ]
   },
   "outputs": [],
   "source": [
    "%%capture\n",
    "if unity_sensor_id == 2:\n",
    "    game_clip3 = make_agent_clip(results_trained, normalize=True).to_html5_video()\n",
    "\n",
    "    # https://stackoverflow.com/questions/55163024/how-to-convert-matplotlib-animation-to-an-html5-video-tag\n",
    "    with open(\"game_clip3.html\", \"w\") as f:\n",
    "        print(game_clip3, file=f)"
   ]
  },
  {
   "cell_type": "code",
   "execution_count": null,
   "metadata": {
    "tags": [
     "hide-input"
    ]
   },
   "outputs": [],
   "source": [
    "HTML(game_clip3)"
   ]
  },
  {
   "cell_type": "markdown",
   "metadata": {},
   "source": [
    "Note: A visualization of the Ray Perception Sensor would be certainly interesting here. There is a snippet in the bottom of this notebook were this was started implementing. This requires knowledge on how the features are aligned in the observation vector. However, for the training, the model doesn't care..."
   ]
  },
  {
   "cell_type": "code",
   "execution_count": null,
   "metadata": {
    "tags": [
     "remove-cell"
    ]
   },
   "outputs": [],
   "source": [
    "with open(os.path.join('saved_models', 'QNetwork_FC1_Final.results.pickle.dump'), 'wb') as pickle_dump_file:\n",
    "    pickle.dump(results_trained, pickle_dump_file)"
   ]
  },
  {
   "cell_type": "markdown",
   "metadata": {},
   "source": [
    "### 6.2 Using the Camera Sensor\n",
    "The visual behavior of the Agent using the ***Camera Sensor*** only looks very good as well. Probably a little bit less smooth. Of course it less successfull by score. When watching it for longer, it sometimes looks a little bit \"clumsy\". E.g. it sometimes misses a marble when approaching it after a turn. It seems that it acts just directly based on the actual visual perception and it didn't learn the concept inertia. This could be addressed if the Unity scene would provide more temporal information through stacked images or using the Agent's actual velocity features (see the function `CollectObservations` in the script `foodCollectorAgent.cs`)."
   ]
  },
  {
   "cell_type": "code",
   "execution_count": null,
   "metadata": {
    "tags": [
     "hide-input",
     "hide-output"
    ]
   },
   "outputs": [],
   "source": [
    "%%time\n",
    "%%capture\n",
    "if unity_sensor_id == 0:\n",
    "    game_clip4 = make_agent_clip(results_trained, normalize=True).to_html5_video()"
   ]
  },
  {
   "cell_type": "code",
   "execution_count": null,
   "metadata": {
    "tags": [
     "hide-input"
    ]
   },
   "outputs": [],
   "source": [
    "HTML(game_clip4)"
   ]
  },
  {
   "cell_type": "markdown",
   "metadata": {},
   "source": [
    "The application the learnt kernels of the first convolutional layer provides an impression which features are probably extracted there. So its probably either walls, marbles, marbles by color, marbles by distance and so on..."
   ]
  },
  {
   "cell_type": "code",
   "execution_count": null,
   "metadata": {
    "tags": [
     "hide-input",
     "hide-output"
    ]
   },
   "outputs": [],
   "source": [
    "%%time\n",
    "%%capture\n",
    "if unity_sensor_id == 0:\n",
    "    weigths_conv1 = agent.qnetwork_local.conv1.weight.data.cpu().clone().numpy()\n",
    "    game_clip5 = make_agent_clip(results_trained, weigths_conv1, normalize=True).to_html5_video()"
   ]
  },
  {
   "cell_type": "code",
   "execution_count": null,
   "metadata": {
    "tags": [
     "hide-input"
    ]
   },
   "outputs": [],
   "source": [
    "HTML(game_clip5)"
   ]
  },
  {
   "cell_type": "code",
   "execution_count": null,
   "metadata": {
    "tags": [
     "hide-input",
     "hide-output"
    ]
   },
   "outputs": [],
   "source": [
    "# https://stackoverflow.com/questions/55163024/how-to-convert-matplotlib-animation-to-an-html5-video-tag\n",
    "with open(\"game_clip4.html\", \"w\") as f:\n",
    "    print(game_clip4, file=f)\n",
    "\n",
    "with open(\"game_clip5.html\", \"w\") as f:\n",
    "    print(game_clip5, file=f)"
   ]
  },
  {
   "cell_type": "code",
   "execution_count": null,
   "metadata": {
    "tags": [
     "hide-input",
     "hide-output"
    ]
   },
   "outputs": [],
   "source": [
    "%%capture\n",
    "fig = plt.figure(figsize=(9,4))\n",
    "weigths_conv1 = agent.qnetwork_local.conv1.weight.data.cpu().clone().numpy()\n",
    "# filtered_images_cv = apply_kernels_to_image(results[25][0][0], weigths_conv1)\n",
    "visualize_output_func(fig, weigths_conv1)(results[9])"
   ]
  },
  {
   "cell_type": "markdown",
   "metadata": {},
   "source": [
    "### 6.3 Using the Camera Sensor and odometric feedback\n",
    "This section is a placeholder for an Agent that additionally uses the speed feedback (x and y) from the Unity environment."
   ]
  },
  {
   "cell_type": "code",
   "execution_count": null,
   "metadata": {},
   "outputs": [],
   "source": []
  },
  {
   "cell_type": "markdown",
   "metadata": {},
   "source": [
    "## Misc & Sandbox\n",
    "Some snippets for later usage are left here..."
   ]
  },
  {
   "cell_type": "code",
   "execution_count": null,
   "metadata": {},
   "outputs": [],
   "source": [
    "# Visualization of the Ray Perception Sensor 3D\n",
    "import matplotlib.pyplot as plt\n",
    "import numpy as np\n",
    "\n",
    "ray_length = 30\n",
    "rays_per_direction = 6\n",
    "max_ray_degrees = 60\n",
    "\n",
    "# Fixing random state for reproducibility\n",
    "np.random.seed(19680801)\n",
    "\n",
    "# Compute pie slices\n",
    "N = 2*rays_per_direction+1\n",
    "theta = np.linspace(0.0, max_ray_degrees/180 * 2 * np.pi, N, endpoint=False) -  max_ray_degrees / 180 * np.pi\n",
    "radii = 10 * np.random.rand(N)\n",
    "width = 0.1*np.pi / 4 # TODO: Change width corresponding to the \"Sphere Cast Radius\" and the radii (distance)\n",
    "colors = plt.cm.viridis(radii / 10.)\n",
    "\n",
    "ax = plt.subplot(projection='polar')\n",
    "# ax.bar(theta, radii, width=width, bottom=0.0, color=colors, alpha=0.5)\n",
    "ax.bar(theta, radii, width=width, bottom=0.0, color='orange', alpha=0.5)\n",
    "\n",
    "plt.show()"
   ]
  },
  {
   "cell_type": "code",
   "execution_count": null,
   "metadata": {},
   "outputs": [],
   "source": [
    "import netron"
   ]
  },
  {
   "cell_type": "code",
   "execution_count": null,
   "metadata": {},
   "outputs": [],
   "source": [
    "netron.start(file='saved_models/QConvNetwork40.onnx')"
   ]
  },
  {
   "cell_type": "code",
   "execution_count": null,
   "metadata": {},
   "outputs": [],
   "source": [
    "netron.start(file='GridFoodCollector2.onnx')"
   ]
  },
  {
   "cell_type": "code",
   "execution_count": null,
   "metadata": {},
   "outputs": [],
   "source": [
    "env.close()"
   ]
  },
  {
   "cell_type": "code",
   "execution_count": null,
   "metadata": {},
   "outputs": [],
   "source": []
  }
 ],
 "metadata": {
  "celltoolbar": "Edit Metadata",
  "jpcodetoc-autonumbering": false,
  "jpcodetoc-showcode": false,
  "jpcodetoc-showtags": false,
  "kernelspec": {
   "display_name": "Python 3 (ipykernel)",
   "language": "python",
   "name": "python3"
  },
  "language_info": {
   "codemirror_mode": {
    "name": "ipython",
    "version": 3
   },
   "file_extension": ".py",
   "mimetype": "text/x-python",
   "name": "python",
   "nbconvert_exporter": "python",
   "pygments_lexer": "ipython3",
   "version": "3.10.13"
  }
 },
 "nbformat": 4,
 "nbformat_minor": 4
}
